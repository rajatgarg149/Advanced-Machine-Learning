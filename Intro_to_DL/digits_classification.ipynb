{
 "cells": [
  {
   "cell_type": "markdown",
   "metadata": {
    "slideshow": {
     "slide_type": "slide"
    }
   },
   "source": [
    "# MNIST digits classification with TensorFlow"
   ]
  },
  {
   "cell_type": "markdown",
   "metadata": {},
   "source": [
    "<img src=\"images/mnist_sample.png\" style=\"width:30%\">"
   ]
  },
  {
   "cell_type": "code",
   "execution_count": 1,
   "metadata": {},
   "outputs": [
    {
     "name": "stdout",
     "output_type": "stream",
     "text": [
      "We're using TF 1.2.1\n"
     ]
    },
    {
     "name": "stderr",
     "output_type": "stream",
     "text": [
      "Using TensorFlow backend.\n"
     ]
    }
   ],
   "source": [
    "import numpy as np\n",
    "from sklearn.metrics import accuracy_score\n",
    "from matplotlib import pyplot as plt\n",
    "%matplotlib inline\n",
    "import tensorflow as tf\n",
    "print(\"We're using TF\", tf.__version__)\n",
    "\n",
    "import sys\n",
    "sys.path.append(\"../..\")\n",
    "import grading\n",
    "\n",
    "import matplotlib_utils\n",
    "from importlib import reload\n",
    "reload(matplotlib_utils)\n",
    "\n",
    "import grading_utils\n",
    "reload(grading_utils)\n",
    "\n",
    "import keras_utils\n",
    "from keras_utils import reset_tf_session"
   ]
  },
  {
   "cell_type": "markdown",
   "metadata": {},
   "source": [
    "# Fill in your Coursera token and email\n",
    "To successfully submit your answers to our grader, please fill in your Coursera submission token and email"
   ]
  },
  {
   "cell_type": "code",
   "execution_count": 2,
   "metadata": {
    "collapsed": true
   },
   "outputs": [],
   "source": [
    "grader = grading.Grader(assignment_key=\"XtD7ho3TEeiHQBLWejjYAA\", \n",
    "                        all_parts=[\"9XaAS\", \"vmogZ\", \"RMv95\", \"i8bgs\", \"rE763\"])"
   ]
  },
  {
   "cell_type": "code",
   "execution_count": 45,
   "metadata": {
    "collapsed": true
   },
   "outputs": [],
   "source": [
    "# token expires every 30 min\n",
    "COURSERA_TOKEN = \"ls6376XV6LSNGQDv\"\n",
    "COURSERA_EMAIL = \"rajatgarg149@gmail.com\""
   ]
  },
  {
   "cell_type": "markdown",
   "metadata": {},
   "source": [
    "# Look at the data\n",
    "\n",
    "In this task we have 50000 28x28 images of digits from 0 to 9.\n",
    "We will train a classifier on this data."
   ]
  },
  {
   "cell_type": "code",
   "execution_count": 3,
   "metadata": {},
   "outputs": [
    {
     "name": "stdout",
     "output_type": "stream",
     "text": [
      "Downloading data from https://s3.amazonaws.com/img-datasets/mnist.npz\n",
      "10797056/11490434 [===========================>..] - ETA: 0s"
     ]
    }
   ],
   "source": [
    "import preprocessed_mnist\n",
    "X_train, y_train, X_val, y_val, X_test, y_test = preprocessed_mnist.load_dataset()"
   ]
  },
  {
   "cell_type": "code",
   "execution_count": 4,
   "metadata": {},
   "outputs": [
    {
     "name": "stdout",
     "output_type": "stream",
     "text": [
      "X_train [shape (50000, 28, 28)] sample patch:\n",
      " [[ 0.          0.29803922  0.96470588  0.98823529  0.43921569]\n",
      " [ 0.          0.33333333  0.98823529  0.90196078  0.09803922]\n",
      " [ 0.          0.33333333  0.98823529  0.8745098   0.        ]\n",
      " [ 0.          0.33333333  0.98823529  0.56862745  0.        ]\n",
      " [ 0.          0.3372549   0.99215686  0.88235294  0.        ]]\n",
      "A closeup of a sample patch:\n"
     ]
    },
    {
     "data": {
      "image/png": "[encoded data removed]",
      "text/plain": [
       "<matplotlib.figure.Figure at 0x7feb2dcb1940>"
      ]
     },
     "metadata": {},
     "output_type": "display_data"
    },
    {
     "name": "stdout",
     "output_type": "stream",
     "text": [
      "And the whole sample:\n"
     ]
    },
    {
     "data": {
      "image/png": "[encoded data removed]",
      "text/plain": [
       "<matplotlib.figure.Figure at 0x7feb2dcb1c18>"
      ]
     },
     "metadata": {},
     "output_type": "display_data"
    },
    {
     "name": "stdout",
     "output_type": "stream",
     "text": [
      "y_train [shape (50000,)] 10 samples:\n",
      " [5 0 4 1 9 2 1 3 1 4]\n"
     ]
    }
   ],
   "source": [
    "# X contains rgb values divided by 255\n",
    "print(\"X_train [shape %s] sample patch:\\n\" % (str(X_train.shape)), X_train[1, 15:20, 5:10])\n",
    "print(\"A closeup of a sample patch:\")\n",
    "plt.imshow(X_train[1, 15:20, 5:10], cmap=\"Greys\")\n",
    "plt.show()\n",
    "print(\"And the whole sample:\")\n",
    "plt.imshow(X_train[1], cmap=\"Greys\")\n",
    "plt.show()\n",
    "print(\"y_train [shape %s] 10 samples:\\n\" % (str(y_train.shape)), y_train[:10])"
   ]
  },
  {
   "cell_type": "markdown",
   "metadata": {},
   "source": [
    "# Linear model\n",
    "\n",
    "Your task is to train a linear classifier $\\vec{x} \\rightarrow y$ with SGD using TensorFlow.\n",
    "\n",
    "You will need to calculate a logit (a linear transformation) $z_k$ for each class: \n",
    "$$z_k = \\vec{x} \\cdot \\vec{w_k} + b_k \\quad k = 0..9$$\n",
    "\n",
    "And transform logits $z_k$ to valid probabilities $p_k$ with softmax: \n",
    "$$p_k = \\frac{e^{z_k}}{\\sum_{i=0}^{9}{e^{z_i}}} \\quad k = 0..9$$\n",
    "\n",
    "We will use a cross-entropy loss to train our multi-class classifier:\n",
    "$$\\text{cross-entropy}(y, p) = -\\sum_{k=0}^{9}{\\log(p_k)[y = k]}$$ \n",
    "\n",
    "where \n",
    "$$\n",
    "[x]=\\begin{cases}\n",
    "       1, \\quad \\text{if $x$ is true} \\\\\n",
    "       0, \\quad \\text{otherwise}\n",
    "    \\end{cases}\n",
    "$$\n",
    "\n",
    "Cross-entropy minimization pushes $p_k$ close to 1 when $y = k$, which is what we want.\n",
    "\n",
    "Here's the plan:\n",
    "* Flatten the images (28x28 -> 784) with `X_train.reshape((X_train.shape[0], -1))` to simplify our linear model implementation\n",
    "* Use a matrix placeholder for flattened `X_train`\n",
    "* Convert `y_train` to one-hot encoded vectors that are needed for cross-entropy\n",
    "* Use a shared variable `W` for all weights (a column $\\vec{w_k}$ per class) and `b` for all biases.\n",
    "* Aim for ~0.93 validation accuracy"
   ]
  },
  {
   "cell_type": "code",
   "execution_count": 5,
   "metadata": {},
   "outputs": [
    {
     "name": "stdout",
     "output_type": "stream",
     "text": [
      "(50000, 784)\n",
      "(10000, 784)\n"
     ]
    }
   ],
   "source": [
    "X_train_flat = X_train.reshape((X_train.shape[0], -1))\n",
    "print(X_train_flat.shape)\n",
    "\n",
    "X_val_flat = X_val.reshape((X_val.shape[0], -1))\n",
    "print(X_val_flat.shape)"
   ]
  },
  {
   "cell_type": "code",
   "execution_count": 6,
   "metadata": {
    "scrolled": true
   },
   "outputs": [
    {
     "name": "stdout",
     "output_type": "stream",
     "text": [
      "(50000, 10)\n",
      "[[ 0.  0.  0.  0.  0.  1.  0.  0.  0.  0.]\n",
      " [ 1.  0.  0.  0.  0.  0.  0.  0.  0.  0.]\n",
      " [ 0.  0.  0.  0.  1.  0.  0.  0.  0.  0.]] [5 0 4]\n"
     ]
    }
   ],
   "source": [
    "import keras\n",
    "\n",
    "y_train_oh = keras.utils.to_categorical(y_train, 10)\n",
    "y_val_oh = keras.utils.to_categorical(y_val, 10)\n",
    "\n",
    "print(y_train_oh.shape)\n",
    "print(y_train_oh[:3], y_train[:3])"
   ]
  },
  {
   "cell_type": "code",
   "execution_count": 29,
   "metadata": {
    "collapsed": true
   },
   "outputs": [],
   "source": [
    "# run this again if you remake your graph\n",
    "s = reset_tf_session()"
   ]
  },
  {
   "cell_type": "code",
   "execution_count": 30,
   "metadata": {},
   "outputs": [],
   "source": [
    "# Model parameters: W and b\n",
    "W = tf.get_variable(\"w\", shape=(784, 10))\n",
    "b = tf.get_variable(\"b\", shape=(1, 10))"
   ]
  },
  {
   "cell_type": "code",
   "execution_count": 31,
   "metadata": {
    "collapsed": true
   },
   "outputs": [],
   "source": [
    "# Placeholders for the input data\n",
    "input_X = tf.placeholder(tf.float32, shape=(None, 784))\n",
    "input_y = tf.placeholder(tf.float32, shape=(None, 10))"
   ]
  },
  {
   "cell_type": "code",
   "execution_count": 35,
   "metadata": {},
   "outputs": [],
   "source": [
    "# Compute predictions\n",
    "logits = input_X @ W + b\n",
    "probas = tf.nn.softmax(logits)\n",
    "classes = tf.argmax(probas, axis=1)\n",
    "\n",
    "# Loss should be a scalar number: average loss over all the objects with tf.reduce_mean().\n",
    "# Use tf.nn.softmax_cross_entropy_with_logits on top of one-hot encoded input_y and logits.\n",
    "# It is identical to calculating cross-entropy on top of probas, but is more numerically friendly (read the docs).\n",
    "loss = tf.reduce_mean(tf.nn.softmax_cross_entropy_with_logits(labels=input_y, logits=logits))\n",
    "\n",
    "# Use a default tf.train.AdamOptimizer to get an SGD step\n",
    "step = tf.train.AdamOptimizer().minimize(loss) ### optimizer step that minimizes the loss"
   ]
  },
  {
   "cell_type": "code",
   "execution_count": 44,
   "metadata": {
    "scrolled": false
   },
   "outputs": [
    {
     "data": {
      "text/html": [
       "<img src=\"data:image/jpeg;base64,/9j/4AAQSkZJRgABAQAAAQABAAD/2wBDAAIBAQEBAQIBAQECAgICAgQDAgICAgUEBAMEBgUGBgYFBgYGBwkIBgcJBwYGCAsICQoKCgoKBggLDAsKDAkKCgr/2wBDAQICAgICAgUDAwUKBwYHCgoKCgoKCgoKCgoKCgoKCgoKCgoKCgoKCgoKCgoKCgoKCgoKCgoKCgoKCgoKCgoKCgr/wAARCAEgA2ADASIAAhEBAxEB/8QAHwAAAQUBAQEBAQEAAAAAAAAAAAECAwQFBgcICQoL/8QAtRAAAgEDAwIEAwUFBAQAAAF9AQIDAAQRBRIhMUEGE1FhByJxFDKBkaEII0KxwRVS0fAkM2JyggkKFhcYGRolJicoKSo0NTY3ODk6Q0RFRkdISUpTVFVWV1hZWmNkZWZnaGlqc3R1dnd4eXqDhIWGh4iJipKTlJWWl5iZmqKjpKWmp6ipqrKztLW2t7i5usLDxMXGx8jJytLT1NXW19jZ2uHi4%2BTl5ufo6erx8vP09fb3%2BPn6/8QAHwEAAwEBAQEBAQEBAQAAAAAAAAECAwQFBgcICQoL/8QAtREAAgECBAQDBAcFBAQAAQJ3AAECAxEEBSExBhJBUQdhcRMiMoEIFEKRobHBCSMzUvAVYnLRChYkNOEl8RcYGRomJygpKjU2Nzg5OkNERUZHSElKU1RVVldYWVpjZGVmZ2hpanN0dXZ3eHl6goOEhYaHiImKkpOUlZaXmJmaoqOkpaanqKmqsrO0tba3uLm6wsPExcbHyMnK0tPU1dbX2Nna4uPk5ebn6Onq8vP09fb3%2BPn6/9oADAMBAAIRAxEAPwD9/KKKKACiiigAooooAKKKKACiiigAooooAKKKKACiiigAooooAKKKKACiiigAooooAKKKKACiiigAooooAKKKKACiiigAooooAKKKKACiiigAooooAKKKKACiiigAooooAKKKKACiiigAooooAKKKKACiiigAooooAKKKKACiiigAooooAKKKKACiiigAooooAKKKKACiiigAooooAKKKKACiiigAooooAKKKKACiiigAooooAKKKKACiiigAooooAKKKKACiiigAooooAKKKKACiiigAooooAKKKKACiiigAooooAKKKKACiiigAooooAKKKKACiiigAooooAKKKKACiiigAooooAKKKKACvPfjt%2B1J8FP2b5NGsfil4g1Maj4ilnTQNB8OeF9R1zVNR8lVed4bHTbee5kjiVkMkixlI96biu5c%2BhV4N%2B0P8D/j5/wANJ%2BDv2tv2bLLwfrWueH/B2seFNX8KeOdcutLtLywv7mwuxcQXtraXj288U2noCpt3WVJSCUKK1ABpf/BTL9izWLvxPb2nxXv0h8FWsk/jLUrvwXrEFjoIS0iu9l5dy2iwWsrQzRskMjrJIWKorMrKL2n/APBQ/wDZK1HwBrXxFTx/q9vB4f1ay0vVdE1DwNrNrrkV5ebfscC6PNaLqEr3AYGER27eaAxTcFYjy2b9gH4y%2BMf2a/jn8NfGHinwppHin4o/FS38daHc6U1xeWFpeW0OiywQ3IkihkkiN3pRRwoyYHGDuJVaPi79i/8AaV%2BLmr/Ef45fG34S/CjWvFnjWx8KaPp/gKy%2BI2s2Wm6fY6Hcaldw3qa7b6al5DqDXOqTOksVoPJSKNFZiWcgHsviH9vv9mzwv4a8OeI9XvvG3meK0v5NE8P2vwm8SXGuSRWUscV3NJpMWntf28MLzQq8s0CIpmiy37xM%2Bmaz8RPBHhv4e3XxX8T%2BJbbSvDljo76rf6vqrfZYbSySIzPPMZdvlKsYLNvxtAOcYNfGHin9hH9s/WPgX4X8Nay3hfxV470a58RHRfGV/wDHbxNpGr%2BCLW%2BuUktLO11q1sJLzXIYkjhEy3qw/aTbReYCFGPUfjR/wTotfj1%2Bzb4n%2BHHxD%2BOfjW78d%2BMPhfH4Z17xS3jbWho818tpDE2oJoS3y2FuzzQLK3kRRSEPIBIrSM5AOkg/4KUfsZf8K58V/FbWPite6Jo3giysr7xQ/ifwdq%2Bk3NlZXkxhtb37LeWsVxJaSyK6pcxxtC3luQ%2BEYjj/AI3f8FZP2d/hn8ENU%2BMfgPRfFXiqbQfiD4X8L674Y/4QXXbHU7A6zqVrax3T2cmnNdeV5Fw88DeT5d48aW8MhknjB8r1T/gmJ8ZPHfwq8faR4i8DeG9G8Y%2BI9D0fR7DxDqv7RfjPxut3aWusW%2BoTRyf27AfsEZ8likUSzHe%2BGkxknv8A9qH9gz40/GD4g/F/4g%2BBfEPheOTxfB8LbzwlZ6tfXMSvf%2BE/EdzrUsN40dvJ5ENwGt4VljEzrl2MfyKrgHqFh/wUE/Zb1H4m2XwZh8T%2BJo/Fd5oun6xLoF38N9egudO0%2B9adILu/SSyU6dDut5VeS68pYiFEhQum6j4a/wCCmH7FPi3wZ4s%2BIWkfGC4TR/Bfgi68Zaxe6h4S1W0Fx4et0Z5tWsVntUbVLNVQ4nsxPGxZArEugbB0P9kP4ofEP4mfG74g/G9fD2gxfGj4O%2BHfCF1Y%2BE9duNRl0u4tE11Ltlnns7XzYwNViMT7FZikm6OPA3fN37Y37Kn7UOj/ALDHxS%2BJv7TF34AtIfhD%2BxT8QfBHhePwFqF5cNrzXukWxn1G6W5toBYqE0i3CWcbXAVppCZ22oKAPrPw9/wUl/Yy8TaHrHiPT/i1dQWehppU1/JqnhLVbJmtNSu1s7HUIUuLVGubCWdgovoQ9qoDO0qorMPT9E%2BLvw88R/FLX/gvofiH7T4k8LaXp%2Boa/YR2k22zgvmuBa7pinlF3%2ByzHy1cyKoRmVVkjLfJOofsz%2BIPFegeKfjb/wAFIvF/wz8J%2BBbf9nu5%2BHUlx4f8QTLay6beyQyXmq3k17BbpYOTBbCG2QzCAmT/AEiQsuOw/wCCPngP4u2f7I9r8f8A9pDUDf8AxJ%2BL15H4n8V6g9nJbtJCLSCy01fKl%2BeH/iX2lpI0TYKSzTZAYtkA%2BqqKKKACiiigAooooAKKKKACiiigAooooAKKKKACiiigAooooAKKKKACiiigAooooAKKKKACiiigAooooAKKKKACiiigAooooAK8R0j/AIKMfse6ld69Z6n8Urzw83hzw5c%2BINQk8a%2BEdV0GObSbd0jnv7WTUrWBb63R5IlaW2MqAyxjOXXPtN7FczWcsNndCCZ4mWKYx7/LYjhtp64POO9fmJq//BHL9uX4v6t4X1z43fHHQ31vw14P1Cz1DxRqHxW8TeJx4h1v7ZpV9a6idLvoobLSbaS50xfPsLIBRHJtWWQKgUA%2B2X/b/wD2YbX4aN8WNY8QeKtK0ttcg0axs9c%2BGWv2GqanfzIZIYLLTbixS9v2kQM6/Z4ZAyo7AkIxHReA/wBqz4H/ABH1%2By8J%2BHPEOqQ6vf8AhSfxJDpGteFdS0y7TTYbv7JLLLDeW8UkDrP8hhkVZe%2BzbzXk3xO%2BDn7bvxib4e/G3XPBvwq0P4h/Cjx1NrHh/wAM2vjjUr/Rdcs7jSbvTLmO4vn0qGaxmKXskkbpa3AjMQU%2BYJGxV%2BJPwG/bg1/4y%2BHf2mvA%2BjfCu08WX3ww1XwX4x0LUvFepSWGkLcX8N1a39lcJpwk1AxCN1kt5YrQSlxiWLHIB3Gk/wDBRv8AZA8R694F8LeFfiNqus6n8SfBuleLfBunaJ4H1m9nvND1F9lrqMiQWjNa2%2B7HmSTiNbcMpm8oMCdj4a/tufs3fFf4jXPwn8M%2BL9Ws9ft9LudThsvE/gzVtEW/sbeRI57uyl1G1gjv4I3liDy2zSIvmISQGUnyj9hT9hL4sfsw6/8ADjWfHniDw1dnwd%2Byl4R%2BGN%2B%2BkXM8rNq2lvM1zNF5kEe61bemxmKu235o0wK8a%2BGn/BKv9sbxP8UfC/ib9qb4w2eqRaf4A8V%2BF/GniaD4v%2BJNavPEUur2KW39p2umX0Men6EcqWNpaKUXKgTOI1WgD6l8J/8ABRf9kfxrosfirQfHeuf2Hcarpen6f4lvfh/rdrpWoy6lex2VlJaX09mlteQS3M0UYuIJHhBlQs4VgT6X4W%2BLvw88a/EDxT8LvC/iH7XrnguSzj8T2iWkwWxkuoPtEEZlZBG7tCVkKIzMiyRlgokTd8w%2BOPAnxF8K/wDBPbxp8CP%2BChnif4VeCPAWg/DSLQLb4meHfFt2GadI0trXUntLqzgTTZlmFvJDBHcXTGcoiOTtDdr/AMEr/h98WPDf7ImlfFX9oqwS3%2BJ3xYvpfHXxEhW3aL7Pf36xmG02N8yfZbGOys9pyQLXBoA%2BjaKKKACiiigAooooAKKKKACiiigAooooAKKKKACiiigAooooAKKKKACiiigAooooAKKKKACiiigAooooAKKKKACiiigAooooAKK89/autPgHe/s7%2BK7f9qCTwuvgQ6bnXz41ngj0vaJFMQuGuCItpmEYAc4LbRznFfOn7Jf7Qmo69/wSA%2BGEf7F2taF8QfiFZfBDw1Z6boXhzxHpc9zazraWdldTlLm6hhZ7Nmld4JZYg725gLozcAH2bXi/x68f/tF/8NF%2BBfgR8BfGfgrw%2Bmv%2BCvEuvavqfi/wXd60SdOu9Dt4YYY7fUrHyw39qSszMz58tAAvJPl3/BG6xm8OfALx14FX4TeLPClvonxn8UQQReMtT0%2B7vbpjfu8kk01ld3Kyz%2BYW82Rm%2BeUuylwQ56XWvFfxRH/BVL4feGvHfgvw9p2iS/Bnx8fC2paV4mnvLu/VNW8HmQ3NvJZQJaEArhUmuA2WyybRuTaW5cISqO0ezf3as67/AIQf/goX/wBHQfBn/wAMPq3/AM1FH/CD/wDBQv8A6Og%2BDP8A4YfVv/mor2aimQeM/wDCD/8ABQv/AKOg%2BDP/AIYfVv8A5qKP%2BEH/AOChf/R0HwZ/8MPq3/zUV7NRQB4z/wAIP/wUL/6Og%2BDP/hh9W/8Amoo/4Qf/AIKF/wDR0HwZ/wDDD6t/81FezUUAeM/8IP8A8FC/%2BjoPgz/4YfVv/moo/wCEH/4KF/8AR0HwZ/8ADD6t/wDNRXs1FAHjP/CD/wDBQv8A6Og%2BDP8A4YfVv/moo/4Qf/goX/0dB8Gf/DD6t/8ANRXs1FAHjP8Awg//AAUL/wCjoPgz/wCGH1b/AOaij/hB/wDgoX/0dB8Gf/DD6t/81FezUUAeM/8ACD/8FC/%2BjoPgz/4YfVv/AJqKP%2BEH/wCChf8A0dB8Gf8Aww%2Brf/NRXs1eYeM/iv8As0fCi2h1L9oP4meBvDdxq%2Bp6gunzeM9as7NrxYLgowiNy67xGrRAhc7dy5xuGYnUp0o802ku7aS%2B9tL8TowuExeOrqhhqcqk3tGEZTk7K7tGMZSdlq7Rdlq9NTI/4Qf/AIKF/wDR0HwZ/wDDD6t/81FH/CD/APBQv/o6D4M/%2BGH1b/5qKr/8Nf8A/BOD/o6L4I/%2BFto//wAdo/4a/wD%2BCcH/AEdF8Ef/AAttH/8Ajtc/1/Af8/of%2BBw/%2BSPY/wBUuLP%2BhdiP/Cev/wDKCx/wg/8AwUL/AOjoPgz/AOGH1b/5qKP%2BEH/4KF/9HQfBn/ww%2Brf/ADUV3fgaX4H/ABQ8LWvjn4aSeFPEWiX2/wCxaxoTW13a3Gx2jfZLFuR9royHBOGUg8g14eP2%2Bf2PdG8S/Ejw/wDETwLrPh2P4cfEG08IXWo3Xwx1Sa21O/uotPNulrLDZMk0ks2oRQpDGXkcBZVUxSxu3VGUZxUou6Z4dajWw9WVKrFxlFtNNNNNaNNNJpp7ppNdUjtf%2BEH/AOChf/R0HwZ/8MPq3/zUUf8ACD/8FC/%2BjoPgz/4YfVv/AJqKsaR8e/2YtX%2BIeh/C2Xwpqul6x4kt4pNDTxF8LNW0u2vJHsjfC1W6vLKKD7WLZZJHtDIJ4/JmV41aKRV4bwr%2B31%2Bw1qumeE11/U9Mh1LxR4S8O%2BICNH8F6re6dZWetyPDp0818dOiS1gmniljSW7W2OVG9IywWmZnY/8ACD/8FC/%2BjoPgz/4YfVv/AJqKP%2BEH/wCChf8A0dB8Gf8Aww%2Brf/NRXY65rfwK0DwZ4i8fXEHh640zwpDdyeIJ7G3gnNkbWMyTxuEB2yIoyUOGGRxzXl/7K3x6b45%2BKLrwL8Wf2Y9D8D61J4K0fxfolnaavHqq3Okai1ykazP9kg8i8he2ZZ4FEsa%2BbEY55QW2gG//AMIP/wAFC/8Ao6D4M/8Ahh9W/wDmoo/4Qf8A4KF/9HQfBn/ww%2Brf/NRXF%2BCf2rNH8W/GzTvB8/7NWh2vgjxN498ReCPBnjBdWjku9Q1/RY75r2Gew%2ByKttbltK1VI5hcSsxsvmjQSKa1Pgj8XPiP8ZvhJ451qH9knwRp/j7wZ4zuvDi%2BEm8Z%2Bbp13NCttJ5jaj/ZivEvl3GWAtZCDGQu/INAHQf8IP8A8FC/%2BjoPgz/4YfVv/moo/wCEH/4KF/8AR0HwZ/8ADD6t/wDNRXmWm/tnReNvgr8C/Hvwx/Ze8I3HiT42fDD/AITiHRPE/i2PS9O0ixi06yvLmFtQFhMZp1%2B3woi%2BQgdUmkYxLG1bXhL9q7w58RPGPwF1TwF%2Bzx4fvPhx8evC6apovi661ZIdQsZpNIuNVjgbThaOrr9ngQNJ9pQq8uAjbSaAOz/4Qf8A4KF/9HQfBn/ww%2Brf/NRR/wAIP/wUL/6Og%2BDP/hh9W/8Amork/gx%2B1V8N/jp%2B0R4l%2BEvgzwV8Ll0Twvqeq6beS3Xjq3HiSSbTrh7O6uBoi2bFLJbyKa3FxJcqzGIsItrKW871T/gpP4CX4L/FT436L%2BzX4Zt9F8CeOPDGi%2BGtS8UeJotNstd07WrrTre31q4uBZS/2dabL/7SCVmLW6I7eW0hSMA9w/4Qf/goX/0dB8Gf/DD6t/8ANRR/wg//AAUL/wCjoPgz/wCGH1b/AOaiuY8VfGT4gaf%2BzZp/7Q/gP9n74LeKLSPQtS1rxJd6Z8Wc6Nb2NsGdHstRGjsL1pIlZiXit4o2VlMpADtzWvftweFYNetdZ8K/suWF14G0%2B38It458QarfR2Wo6LL4iljS1iisBayC5Nus9tNdbp4fLjm/did1ZAAemf8ACD/8FC/%2BjoPgz/4YfVv/AJqKP%2BEH/wCChf8A0dB8Gf8Aww%2Brf/NRXlXwn/bo8NfGH9qTxB%2BzD4X/AGfPA7appdz4ltYbEeL0fWNPk0m5FtHcazpy6fu0qxvWZJLW5ElwZYpoHEf7zaux8P8A9qqeCT4xyftDfsz%2BDfD9t8I73S9NNz4H8TPr41vVry1juRpcC3GmWDC623emxogD%2BbJqCICpXkA73/hB/wDgoX/0dB8Gf/DD6t/81FH/AAg//BQv/o6D4M/%2BGH1b/wCaivFpv%2BCifgi2%2BCHwy8aa/wDA/wCGnhTxh8Rk1qZtE8ffEa30nRNHg0q8SzvHl1c2EhkPnz2kUaR2paRrkcKqM49X1j4rax4c/aZ%2BHvwP139m7wiug%2BPfD19dR%2BKrPxGs01rf2kCzy2y2n2FVlg2uoW4M6Ek/6rHNAGl/wg//AAUL/wCjoPgz/wCGH1b/AOaij/hB/wDgoX/0dB8Gf/DD6t/81FeffBz9tH4f/EX4saZ4Q8Y/BLwn4b8O%2BLLnxXB4H1tvEMNxfXT%2BHr02t/8AbrI2ka2IO2SVCs8%2BEjIm8lyqHlbb/go94Dv/AIIfEb43j9mPQ9J0zwd8T9K8L6NfeKdcj0/T7vTtRstKvbTXtRufsbnSLNoNUjkYNHM0aBN%2B1nZIwD2v/hB/%2BChf/R0HwZ/8MPq3/wA1FUPA/jj9qzwd%2B1Z4c%2BCPxu%2BI/wAPfE2jeJvh74h1yGbwr8PL7Rbq0utNvtEt0VnuNXvkljdNUlJUIjBokIbGQZf2cPi34V/aW/ZdT4/aV8N9H0Oa4/taOzm0S9S%2BtLg2V3cWyX1herDCbqzn8gTwT%2BXH5sMsbbQGxVrxx/ykL%2BF//ZGfHn/p28IUAezUUUUAFcL%2B0T%2B0j8If2U/hrP8AF74463qWm%2BHrWXZd32m%2BG7/VGtwI3kaSSKxgmkSJUjdnlZRGgUlmUV3VeFf8FLfDPxU%2BIP7DXxL%2BE/wW%2BDus%2BN/EnjLwhqOg6XpGi6hptq0Ut1ayxrPLJqN3bRLCrFQ212k%2BYbUbnAB6d8XvjH8PPgT4Kk%2BIHxN1mez05Lu3tIlstMub66urmeVYYLe3tbWOSe5mkkdVWKJHdieAa4HxV/wUB/ZM8GfD/QPifrvxNuho/iS1v7rT5bPwtqd1PBbWDiPULi7t4bZ5rCG0kZY7mW5SJLZ2CTNGxxXP/tEWnxo%2BL/g7wH8TfC37N/ii31f4ffEDSvFE3gjV9W0VL3VYDbXVrc2sMkWoSWouIEu2lAlnjieSFVWXB3jwuL9mb9rT4b6VcfFLQv2dZ/EusePfDXxL0/UPBsHiPTIn8MXPiLxANV083Ms9ykMkCxlo7xrZ53WVVMMdwpyAD72gnguoEurWZJIpEDRyRsCrKRkEEdQR3r50%2BE3ir9u/466Pr3jvwv8AG/4SaBpdv8QvFWh6XpV/8H9Uv7iK10vXr/TIWluE8RQLLI8dmrsyxRrucgKABXq/g34S654T/Z40L4I6b8StU0rUNG8KWOkJ4p0eC2e7je3gjiNxGt5DPCWOwnEkbj5uleW/sOaPf6J%2Byle%2BHNX8UX%2BtzxfGnxxaXur6kkCXOoZ8eatHJLKLaKKIPICxYRxxpliFVRgAA6P/AIQf/goX/wBHQfBn/wAMPq3/AM1FH/CD/wDBQv8A6Og%2BDP8A4YfVv/mop%2Bv/ALUH/BP3wprt74W8U/tEfBzTdT027ktdR07UPF2lQz2s8bFJIpI3lDI6sCrKwBBBBGRVT/hr/wD4Jwf9HRfBH/wttH/%2BO1yvHYFOzqw/8Dj/APJHvQ4V4pqQU4ZfiGmk01QrtNPVNNUGmmmmmm00002mmWP%2BEH/4KF/9HQfBn/ww%2Brf/ADUUf8IP/wAFC/8Ao6D4M/8Ahh9W/wDmop%2BgftQf8E/fFeu2Xhbwt%2B0R8HNS1PUruO107TtP8W6VNPdTyMEjijjSUs7sxCqqgkkgAZNXv2q/iX8Kv2UP2b/Gv7SXin4XLq2n%2BCvD1xqt1pukaIJri5WJc7EWONiMnGXI2ouXcqqsw1pV6FdN05qVuzT/ACbPPx2V5nlc4wxuHqUnJXSqQnTbW10pwg2r6XSavpe%2Bhnf8IP8A8FC/%2BjoPgz/4YfVv/moo/wCEH/4KF/8AR0HwZ/8ADD6t/wDNRVDSf2s/2P8AXPG8vw10vw1r8viG28OLr2oaL/wprXVutPsHju3iluo208NatL9huVijmCSTPGI41d3RWdpn7Tn7MHiaTw7/AMIrplgh1nx1N4VvbDxL4S1HR9Rsb6PRrrVzC1lc2AmSU2tusyrcLbxvDJ5iysxijm1OEu/8IP8A8FC/%2BjoPgz/4YfVv/moo/wCEH/4KF/8AR0HwZ/8ADD6t/wDNRVD4Kftf/sL/ALQWjTeI/ht4m0v%2BzovD%2Bn66l/4i8I3eiwXOl3zMtrewSajbQLc28jqUEsRdQ%2BEJDECrv7RvxEb4V6/4P%2BGnwg%2BAHhrxd4z8bXt4mlaXrWqrpFjBa2dq1xc3M90lndOgH7mJVWFy0lxHnYgd1AHf8IP/AMFC/wDo6D4M/wDhh9W/%2Baij/hB/%2BChf/R0HwZ/8MPq3/wA1Fc/r37Ufwptv2J9A/bI8NfBazuo/FFtoCaT4e1IQWhgvtWvrSwgt7u4CSLbxxXN2izzBZBGkcjhXCgHirX9tc69qdt8IvCH7MvgK7%2BJ8Xj3V/Cuu6LdeOBDoNhc6dpkGqTFdVGmPLMzWt5aFY/sauGeYOEEDtQB6r/wg/wDwUL/6Og%2BDP/hh9W/%2Baij/AIQf/goX/wBHQfBn/wAMPq3/AM1FeV%2BMf2zNYuvgT8MP2nPgP%2Byv4A8VeDvigfDNtpMGr%2BOH07VxfaxeRW/2eO2h0i6gmW3WXzZJftKjZDOcBUDuvhv9vj4Zaz%2B2JqP7LeofBXwdaRabrerafflPEsUniHS4LCwN42r3%2BjfY1NrpU21YobwXEnmPc2o8secdgB6n/wAIP/wUL/6Og%2BDP/hh9W/8Amoo/4Qf/AIKF/wDR0HwZ/wDDD6t/81Fc5%2BxJ%2B0j4L/bM0DUPHWkfDz4ZWuiC1tLnTLXw/wCOLfWdYtI7hXkSHV7KOzjTS7ny/LYwCe4wxdSwMeW908GDZoZgUnZDfXcUQJztRLmRVX6BQAPYUAeXf8IP/wAFC/8Ao6D4M/8Ahh9W/wDmoo/4Qf8A4KF/9HQfBn/ww%2Brf/NRXs1FAHjP/AAg//BQv/o6D4M/%2BGH1b/wCaij/hB/8AgoX/ANHQfBn/AMMPq3/zUV7NRQB4z/wg/wDwUL/6Og%2BDP/hh9W/%2Baij/AIQf/goX/wBHQfBn/wAMPq3/AM1FezUUAeM/8IP/AMFC/wDo6D4M/wDhh9W/%2Baij/hB/%2BChf/R0HwZ/8MPq3/wA1FezUUAeM/wDCD/8ABQv/AKOg%2BDP/AIYfVv8A5qKP%2BEH/AOChf/R0HwZ/8MPq3/zUV7NRQB4z/wAIP/wUL/6Og%2BDP/hh9W/8Amoo/4Qf/AIKF/wDR0HwZ/wDDD6t/81FezUUAeM/8IP8A8FC/%2BjoPgz/4YfVv/moo/wCEH/4KF/8AR0HwZ/8ADD6t/wDNRXs1FAHjP/CD/wDBQv8A6Og%2BDP8A4YfVv/moo/4Qf/goX/0dB8Gf/DD6t/8ANRXrWt%2BINB8M2Dap4j1uz0%2B1T79zfXKRRr9WYgCvL/FP7fn7DvguZ7XxL%2B138OLeeP8A1luPGVnJKv1RJCw/KsauJw1D%2BLOMfVpfm0ell%2BS5zmztgcLVrf8AXunUn/6RCf42Kv8Awg//AAUL/wCjoPgz/wCGH1b/AOaij/hB/wDgoX/0dB8Gf/DD6t/81FcV4l/4LIf8E0vCuVv/ANqrSLhs4VNK0u%2BvSx9B9ngesYf8Fmv2T9S%2BfwX4I%2BKniSM/6uXQ/hpfSLJ9N6pXDLO8ni7fWIX8pJ/lzH1NLwu8SK0OdZRiFHvKlKmvvqeyX4np3/CD/wDBQv8A6Og%2BDP8A4YfVv/moo/4Qf/goX/0dB8Gf/DD6t/8ANRXmX/D2nQbsZ8P/ALAP7UGqA/dey%2BETFT%2BLXA4o/wCHm/xU1Ljwz/wS%2B/aGlJ%2B7/anhaCy/PfMcVP8AbmV9Kl/SM3/7jNf%2BIW8eR%2BPCKH%2BKvhY/ni7/AIHpv/CD/wDBQv8A6Og%2BDP8A4YfVv/moo/4Qf/goX/0dB8Gf/DD6t/8ANRXmX/Dff7Z96M6J/wAEnPiHID937f4s062P47s4pP8Ahsb/AIKaar8vh3/gkddRqf8Altq3xq0iAL9U8sk/hR/bWCeym/SlUf8A7YH/ABDPiiP8SWGh/ixuCX/uyz07/hB/%2BChf/R0HwZ/8MPq3/wA1FW/2VviN8afGGsfFDwJ8dNf8L6tqngH4hRaHZ6r4T8NXOk291ay6Do%2Bpqz29xe3jLIsmoyoWEu0rGh2qc58m/wCF9f8ABX3UebP9gX4f6dnoNQ%2BKccxX6%2BUnNdD/AME7NW%2BMuua58edV/aC8JaPoXi%2BX4zQf2vpWgX7XVpBjwj4bEWyVgC2YRGx9GZh2row2Pp4qo4xhNaXvKEor7318jx874TxuQ4VV6%2BJw1S75eWjiaVaa0bu4027R0s5XtdpdT6ToooruPlwooooAKKKKACiiigAooooAKKKKACiiigAooooAKKKKACiiigAooooAK%2BYP2gNX/s3/AIKyfs1WW/H9ofC74mW%2BPXE3heXH/kKvp%2Bvjf9sLVzpf/BY39jOAthb7wx8ULdj/ANuOjOB%2BaCubFz9nR5vOP4yiv1Pb4ew/1rM/Z/8ATus//AaFaX/tp9kUUUV0niBRRRQAUUUUAFFFFABRRRQAUUUUAFefeIfgH8CvjjpNt/wur4LeEvGH9l6rqf8AZn/CU%2BHLXUPsnmXb%2BZ5Xnxt5e7y4923G7Yuc4Feg14j8c/25/wBln9i7SdI/4aX%2BKP8AwjX/AAkuq6x/Yv8AxJL68%2B0/Z7v99/x6wS7NvnxfexndxnBxz4qeFp0HLEuKh15rcu%2Bl76b/AIjjmsslf1yNd0HD7am6bjfT44yg1e9tJK97a3sav/DA/wCwr/0ZZ8Jf/Dc6Z/8AGKP%2BGB/2Ff8Aoyz4S/8AhudM/wDjFeSf8Pzf%2BCWX/R0X/lk65/8AIVH/AA/N/wCCWX/R0X/lk65/8hV4/wBe4V/5%2BUP/ACn/AJGn/EUsT/0PZ/8AhZV/%2BaD6e8DeAfAnwv8AC1r4G%2BGngrSfDuiWO/7Fo%2BhabFaWtvvdpH2RRKqJud2c4AyzEnkmvCfE37C/ivX/AIl%2BKfEEHxn02Dwz4l%2BMHhv4inRJPCEkl7balpcekxPALz7aI3gmj0mPA%2Bzh4nmZt8iqEr1/4GfHP4WftKfCzS/jX8FPFP8AbXhnWvP/ALM1P7DPbed5M8kEn7udEkXEsUi/MoztyMggnkD%2B2d8MB46HwyGga%2BfEB%2BKL%2BBTpItYPNF8ukHWTdH99gWh0/FwJM7sOq7N52V7lGVKVKMqVuVpWta1ulraW7W0M3injn9ZdT2jn73M25OV9ebmbblfe7bb3uzyvxD/wTHl8Q/tt6d%2B19d/FLw7I2l/EVPFdqLv4dpP4gVRor6WdIGstd5j04eY1wlvHbptkJ3M%2BSag8Ff8ABLIeD/gTqXwVHx0%2B0HUPg54E8B/2p/wjGzy/%2BEbmvZftvl/aTn7R9sx5W4eV5ed8m7Ajj/4KwfDv4n%2BEtY/4UVplsnibwx8SPh7ofiLSNZ1rSdVji0/xH4qtNGadZdE1K6hWYRtfbY3lWSKWGNpYSjqJIPjF/wAFTIvAn7PXjfxt8Nvhb4j8aeK/DHhnxrrU6ad4dt4bLRLXRdU1HTYbrUIpNSEkkD3FhIoFrJJcTpBNKsEHMcegj6i13wRL478GeIvAPxKurPUdM1%2BC7sXgsbJ7Yrp88ZjMLlpZN8m1mBkXYDkYRcc%2BQ/s6/sifFv4K6rd%2BNfGH7QGleLPE0fhDQvCOhanL4IezgtdE02eaQ%2BdAt8xnvrgXMvm3CvFFuSFktlVGST2HwD40h8ZaQkz2t1Fdw2tq18ZNMuIIGklt45v3EkqhJ0AkALRs4VgyMQ6sB89fsi/tjfGz4y%2BPvAh%2BJ%2Bm%2BFl8N/GX4aar45%2BH0Gg6bcwXmi2NneabGtpfyy3MqXkstvq9pL5sUduqPDMhRgUYgG94E/Yc1vwf8cdM8ZXvxigvfAvhjx/4h8ceD/BieGjFd2Ova0l8t7LNf/aWW4gB1XVWjhFvEym9%2BaSQRqKd%2Bz7%2BzX%2B1n8E9D%2BJh1X9pP4daxrnjnxPJ4h0i%2Bt/hDf2lppN9MkUcwmtzr0r3cJSCPYizQMjbiXcEKvP8AiT9sb42aV8fdVlsdN8Lf8Kz8PfGXR/hrqeny6bcnWrm91CwsZl1KK6FyIY4Y7rUra3Ns1uzMkcsvnLlY68i8E/8ABV348T2HjfW/Ffgnw7dvpfw%2B1nXNG0NfC%2Bp6OLPUrbV4NNtLJNRup5YPEVrI9wDNqOnIsNv5aBgTcxKAD1Tw7/wT8%2BLWl/sRfDb9jrxN8V/hN4nf4c6PYaPYeIvFXwJbUYvsllZR2lpcwWVxq7pb6gipv%2B0l5IizH/RwOK2ta/Ye%2BJXhvXvgLpP7Pvxq8MeG/BXwI0%2BCz0vQPEfgG61e%2B1GNNNm0tg17FqtqsebSX5SYHKzL5jF1PlVTtf2g/wBqKz8NfE3wL4u8a%2BD7fxj8L9e003viTw78HNc1601XSr2xiuIzBoVjqTXwuVmeSJglxMNkHm7QJCkXjnxQ/wCCsvxe%2BH3wI8MfG7xIPh54Til%2BDNx45ubPxBZ3VyfGt5byyCTQtHaO7j%2ByXhiiWUpILuWE3kSNC/kzNQB6zc/8EwvDGuePbqy8XeObC6%2BGs3jDxX4pXwfp/h2Wx1WfUfEdjf2eqJc6vDeB5bZl1S9dI44YZUY2585vs6Vr/Cb9gC6/Zo8Q/Enxn%2Bzb8ZdQtdV8dXmjyaanxIv9d8WWekxWVtDAY2ivNYWS4ZxGxWUSxNECifOkSqcZP22PjHf/ABsbXNL07wufhXD8X7D4dPYy6XcjXJbm60y3uF1Rbn7T5KRLeXUVsbU25Yxq83ng4hp37Hf7UX7Rfx%2B0XxP4a%2BIfjTwnoXxGj0a5u9D8Dat8HNe0GTS1FzNBDdyvf35/tm0JWHdLZrEmWx5il1AAM/xh/wAE5fjNrPwq0T4XeH/2mPC0VlP8Q9V8ZfErSNZ%2BF89zo/iu9u7k3UVoLO31a2e1sIp2MrWzTz/aGRPOeQGZZup%2BJf7C3jT4l/Em58T3nxx06z8P%2BLbjwvffFDw7beD3L6zfaJcpcRSWVw16f7PiuDFBDPFIl0TDCqxyRuWlY%2BE3xy/aU%2BMH7E2hfHGb4n/C/wAG%2BIYLjVJPGniTXfCF7caJBZ2FzewSzRWv9qQyQA/Z43LSXbrGvmZ3cY8Q%2BMn/AAVi%2BMXwl%2BC/h741%2BPdI8FeBYU%2BBsPxBvtB8V6VeyXXjW6DTtcaJop%2B0QG1uVggSb99HcSINQt98IWOVqAPb/hL%2Bwj4p%2BHfxr0Xx7r3xus9X8N%2BEfFHirX/CWjQ%2BEjbaol1r1xPNcpfaibuRbyGM3MyxolvATtgaRpGhDHX8O/sC/DC9%2BDUnws%2BMmvax4jvbz4jaj441HxHoWuaj4du5NYub24uI5Y5dOu0niWCOZLeNfOIEdvFnJUEY%2Btftl%2BOtU/bn8G/s/wDw38P6Pc%2BAru51PSfFXiO8ima5m1qDTDqAtbIrIqKtvGIhO7pIGe6ESlHt5hVD4W/tC/tUeNvjx8Rf2ZJPE/g261rw74attQ0nxPe/CjWtBtLS5kvZoGiNne6g0mtW4SIuLyzmjgLDyy4LgqAYvgz/AIJby/B74feA9L%2BDXxrtx4r8BjxTa2PiL4h6Be%2BJ7ebT9enjmvIPs11qSyxuPs9oFcXGw%2BXKWjb7RIK6Kx/Yc%2BLvgbxn8BR8I/2gvD1l4O%2BBvhKDw/b6N4m8A3Op6prNv9lisriR7%2BLVbeOKR7aCMIfszhJdzsJVIjXz/Xv%2BCjPxd8KfDu10TVr7wre%2BI9Z%2BOF/8P/DXj3QPAer6jpGqw2WlS6jdahbaLaXM19dNHLbXemm2huWzcW0knmCJWC9N8d/2lf2ntK/Z78A/Gr9m/wCOvwm8RTeMdR0LQNMtbz4X6pJHruq3%2BoJbPPCV1uJ7CGGJpZpYJVnlhW0n3OxG0AGprf8AwTR%2BHfxS%2BOXiv4q/Hmy8EalpviLR9a0oaV4J8Bv4cv7221JBBLJqupw3slxqFwloHt0lj%2BzBRcTtsLOnl5Onf8EstK8Bz%2BONc%2BEXx78S2mq%2BJPiloHjXQ38b6vrHii0sJtK06ys47W7h1DU2e%2BR2tpZTKssEq77ZA%2B2ygxTsP28/jZdft8r%2BzbPo2gw%2BHpfiHdeGEs5vCOpIywReHm1RL9dfNx/Z09y0yrGdHSL7YkTtMfkidq9H/Z2%2BM3x/1b9ozxp%2Bzv8AGjxB4J8USeF/DGk6rdeIPAnhy70uDS7y8kuR/ZVzHc3t35s3kwxXCuskbeXMpeFBJEzgG78FfgNd/s7/ALPviHwbq/jCHXdU1XU9f8Qa1qNnpX2C1e91G6uL2dba182X7PCrzMFQySNgbnd3ZmNPxx/ykL%2BF/wD2Rnx5/wCnbwhXqXjn/kSdY/7BVx/6LavLfHH/ACkL%2BF//AGRnx5/6dvCFAHs1FFFABRRRQAUUUUAFeC/sf/8AJvWr/wDZe/HP/qwNVr3qvBf2P/8Ak3rV/wDsvfjn/wBWBqtAHWa/%2BxN%2Bxl4r1298U%2BKf2R/hjqWp6ldyXWo6jqHgHTpp7qeRi8kskjwlndmJZmYkkkknJqp/wwP%2Bwr/0ZZ8Jf/Dc6Z/8Yrzvx/8A8FlP%2BCbnwv8AHet/DTx1%2B0d9h1vw7q9zpmsWX/CIaxL9nureVopY98doyPtdGG5WKnGQSOayP%2BH5v/BLL/o6L/yydc/%2BQq8GeN4YU2pTo3u739ne/W%2Bm973NP%2BIm4mh%2B6WeTjy6W%2Bt1Va2lrfWFa1rWsrWtZWsvZtA/Ym/Yy8Ka7ZeKfC37I/wAMdN1PTbuO607UdP8AAOnQz2s8bB45Y5EhDI6sAyspBBAIORWt%2B018E7L9pP8AZ08d/s96hr8ukw%2BN/COoaG%2BqwQCV7P7VbvCJghIDlC4baSA23GRnNeNeAf8Agsp/wTc%2BKHjvRfhp4F/aO%2B3a34i1e20zR7L/AIRDWIvtF1cSrFFHvktFRNzuo3MwUZySBzXuPx1%2BMPhz9n34PeI/jf4y0zUbrRvCulS6nrKaVCkk8VnEN08wV3QMscYeVhnO2NtoZsKfQwNbLa0JPByg0nryctr%2BfKlrbuTLiSpxJ%2B9njXieTS7qyq8t9bXlUqWvvZNX3t1PI/EX7E3xC8f6D8XZfHvx9tYvEnxb%2BHem%2BGb7WvCfhWbTYdNksxqIW5iikvp5GRxfgNEZgcRNiQeYNnDfBH/glNF8IvEUPiaH4k%2BELDb8XB45fQfAXwvj0DSIGHhG88OGztrVLyUwhvtQu2lZ5GZ0ZSPnDp6L8Z/%2BCiHwd%2BC2l%2BLtc1Tw3qeoWPgrxbZ%2BG9Y1EeINB0q0e/uNNi1EJDcavqVnDJsgngDAPv3zBUV9khTkbX/go7pPinx9Hf8Agm4tLjwFrngz4Sa74R1WLQpJ7y6/4TDxBq2mlZke7hWOMRWdmVYAvA0kzslzhYK7iTq/gb%2BxR4h%2BAUfgS78I/Fyyub/wN8DdK%2BHVvLqHhd2hu/sckDG%2BaNLtWXesLAQhzsLg%2BY23a3WftG/ALxx8VPEHg/4mfB/4n6d4R8Z%2BCb28fStU1rw0%2Br2M9reWrW9zbT2qXVq7g/uZVZZkKyW8ed6F0bzDwb/wUaPxM/aK8H%2BCPCHwf8TWXgHxH4K8Wa/aeLNU0JZ28Qw6TcadDHPpcdlczTmN/tUreVPbpPMGgaFCCc%2Bk/tSfGj4gfD3RvAvhb4OJpEPij4k%2BN7fw7oWoeJ9LnuLLTc2V5qE9zPaxzW8s221sLgLEJYiZGQFlGaAK3hf9l3WPh5%2BzDZfsteCfFXhq/wBE0vwLaaDZnxx4MbVkvbhAVuLm/hS7gjuop1xut1EOGZz5hVlRPONM/wCCa9v4W/Z8vvg74Um%2BEEt94h8cN4n8TnxJ8Dor/wAPi5%2BxxWcI07Rl1CJLAwW9tZxxM005AgYuJGkZh0ugftafFK5/YN8b/tHP8N7TW/HPgOHxfp934e0OKcW2raroN/f6e5t0/ezLDPLYmVIwZZVSUJmRxzyHwD/bI%2BJf7Qui/Enwf4E/aY%2BD%2Boar8OZdM1G5%2BJ%2Bj%2BCL278NXulXdpNKyrarrKss0MlvcI8q3siDy%2BUV96RgHonhX9iLwt4Lj%2BBnhfQ/GFy/hb4GWFwdK0a9s1km1TUzpx0631CaZWVVaOC41AsgjIeS8VwY/JAbmNL/4J9ax/wALltPFHiz4yWOq%2BCdL%2BIniHxrpnho%2BEmi1VtQ1ixvrK4t7nVPtbCeySPUbkRwrbRuqx2yGVkgCt4b8Rf8Agpl%2B2N8Nf2Yfhj8VfE/hzwhba/4w%2BFOu%2BOr1rX4Z6zqEE6QS20unWElpa6g0uhJJZ3cRudTvJpbS1lVg%2B0Mor6F%2BJfx3/aF%2BHXx2%2BG2nrrngLVfDPxJ8SQaXp/giw0W6fXIbYaa9zeamNSW9MEsNvImWH2NUMbxjzhJIisAM/ZA/YY1X9mLxHpusa98VNO1%2B38LfDXT/AAD4LtNI8IjSTb6JZymSI3zfaZhe3f3AZUW3iGJCkCea1e5eD/8AkEzf9hW%2B/wDSuWtSsvwf/wAgmb/sK33/AKVy0AalFFFABRRUGpanpujWMuqaxqMFpbQLumuLmZY4419WZiAB9aG0ldjjGUpKMVdsnorwL4q/8FSf%2BCfnwale08ZftUeFprlDtay0C5bVZg/9wpZLKVbPGGxXDf8AD1wePD5X7Nv7DXxu8eh/9Rqg8I/2Zpknp/pNywx%2BKdK8ypnOV0p8jrRcu0fef3QUn%2BR9tg/DbjzG4dYiOXVYUntOqlQh/wCB15UIv5X9D62or5JPxn/4LD/FAbfAn7HHwy%2BGsUv3Ln4h%2BPH1V1X%2B8Y9NUEHHO09DwaQ/sif8FLPij83xq/4KUL4cs5P9dovwu8C29oV9dl7OTMPxU%2BtR/ak6n8DD1JesVBffNr/0k6v9QqGE1zTOMHQ7qNWWJn/4DhadRX/7ipeaPrSeeC1ha4uZkjjRcvI7ABR6knpXmPxI/bc/Y%2B%2BEUMkvxH/ab8DaU8Wd1rN4ltmuDj0hRzI34Ka8ctv%2BCMf7JPiGZb/4%2BeJ/iT8VrwMGa7%2BIPxDvbgluudtu0IxnsQa9P%2BHP/BPD9hn4TzR3fgX9lLwNa3MOPJvLnQIrqdPcSzh3B9waPa53V%2BGlTh/inKT%2B6MUvxD6l4XYL%2BLjcXiWulKhSoRfpKvWqTt5unfyPMbn/AILKfst%2BIrmSx/Z/8A/FH4sToxTHw8%2BHl5cpv6YLziEYz1IyO/NM/wCGy/8Agoz8Rfl%2BDX/BL%2B/0u1k/1erfEfx9Z6eU9N1ogMv5NxX1la2trY26WdlbRwwxKFjiiQKqAdAAOAKko%2BpZnV/i4pryhCMfxlzsP9ZeCMFpgcijN/zYnE16r%2BcKSw1P80fJJ8Df8Fofif8AL4j%2BOnwW%2BF9tJ9xvCXhm71q8hH%2B0L4iJmHtxQP8AgmR8V/HH774/f8FMPjjr8j/6%2B28LaxB4es5vUNBbo42%2Bwavraij%2BxsJP%2BNKdT/FObX3JwX4B/wARL4hw%2BmXUcNhF/wBOMLQjL/wOpDEVP/J/PRnyron/AARc/wCCfFpfrrXjD4T6p4v1Feuo%2BLvF2o3sjeuVMwjP4rXqXhX9g79ibwTCkPhj9kn4cWxj%2B7N/whlk8v4yPGXP4mvWKK2pZVldDWnQgv8At2N/vab/ABPMzDj/AI7zVcuLzXEzXZ16qivJRjOEUvJRS8jF8NfDj4eeDMHwf4D0XScDA/s3S4YMf98KK2qKK7oxjBWirI%2BWrVq2Inz1ZOUu7bb%2B9tv8QoooqjIKKKKACvGf2X/%2BS3/tHf8AZZrH/wBQrwvXs1eM/sv/APJb/wBo7/ss1j/6hXhegD2aiiigAooooAKKKKACiiigAooooAKKKKACiiigAooooAKKKKACiiigDnPi74j%2BIHhH4b6t4l%2BFngnTfEev2duJNP0bV9ebTLa5O5d3mXSW9w0Sqm5siGQnbgLzXLfCn45eNvjf%2ByL4P/aO%2BHHwzsZNc8aeBdJ8Qab4U1PxG1vbwyXtrDcfZ5b1bZ2CRiUgyrAxITIjyQtdb8UdE8eeJfh9qugfDLxTpGia7eWpisNV17QpdTtLckgM0ltFc2ryjZuAAmjwSDkgFT418Lf2Xv2rPhR%2BxRpn7KXhn9q7wrZa54e%2BHdv4W8MePdN%2BFkySWD28MdtBfNaTatMksiwR8oXCmXEnCDySAdt%2BzD8fvEHx20zxdYeNfAVl4e8Q%2BBfGk/hrxBaaPrzapp8tzHa2t35lrdtb27Tx%2BXeRI26GNkmjmjK5jyfmL/govqX9i/8ABWj9iHU92M3Hjm2z/wBdotFix/49X09%2ByN8CvE/7NvwVsvg/4l8SeGdVGmXEpsrvwx4Yu9LSSOTEkklyLvUL%2BW5u5Z2nmlunm3SvMWZd253%2BH/8AgqV8N/hV8K/%2BCp/7HPxO8EfDTw9out%2BKfH2px%2BJta0rRoLe61Z2vtAija6mjQPOV81wpkLEb2x1Nebm8uTL5y7OP/pdM%2B18O6H1rjDD0f5o119%2BFxf8AkfpbRRRXpHxQUUUUAFFFFABRRRQAUUUUAFFFFABWV4P/AOQTN/2Fb7/0rlrVrMm8JaNNcSXKm8haVy8i2upTwqzHq21HAye5xzQBp0Vl/wDCH6T/AM/eq/8Ag8u//jtH/CH6T/z96r/4PLv/AOO0AaleN%2BJf2Gfgr4t/ad1P9qnXbjW5dY1fwFN4VvdETUFTTGilO2S/EaoJFvjABbeeJOIVCBRyT6h/wh%2Bk/wDP3qv/AIPLv/47R/wh%2Bk/8/eq/%2BDy7/wDjtAHzx4H/AOCWvwm8IxsNZ%2BN3xH8SSrb%2BBLSyl1u90xfsVn4S1v8AtnSbWJLSwhjWP7QSkxKmSSMn51k/eU3x7/wSt%2BDnjLwTrXgXRvjN8R/C9t4o0jxLo/i258Oanp6T61pmt6pe6ncWczT2UoRIrjULryJIRFMiSspkfcxb6J/4Q/Sf%2BfvVf/B5d/8Ax2j/AIQ/Sf8An71X/wAHl3/8doAZ4T8KzeE4ZbFPE%2BoX1psgjsbS9S32WMcUCRbIzFEjsGKGRjIzne7bSqbUXyP4T/sGeBvgvrV5rvgr4u%2BNxNbeF9S8O%2BAo7yfTpo/Amm31xHczwaWpssMvnQWjL9t%2B14Wygj5jUo3r/wDwh%2Bk/8/eq/wDg8u//AI7R/wAIfpP/AD96r/4PLv8A%2BO0AeW6v%2BxD8ONZ%2BPb/HKfxz4qjtrnxTaeKNS8CxXVqNFvtetbFLG31OVTbm586OCG3AjW4WAvbRSNEZF3nk/Dv/AAS7%2BBWleG7nwL4k8f8AjjxH4dh%2BH%2Bp%2BCfCeg6zqdosPhTQ76W2kntrCS2tYZywNlZCOe5knmiFpGEdfn3e/f8IfpP8Az96r/wCDy7/%2BO0f8IfpP/P3qv/g8u/8A47QB5R4c/Y11Lwf4Z1m28LftYfE2z8VeJPEsWs%2BJfiIItAl1bU2isksorWSOXSnsY7dIY4sJFaxnfHv3F3lZ6msfsDeB9T%2BC%2Bkfs5Wfxk8eaf4Dt7C7s/Ffhm1u9PePxjFdzNPeDUp5rN7kG4eScy/ZJbbcLiReFKhfYv%2BEP0n/n71X/AMHl3/8AHaP%2BEP0n/n71X/weXf8A8doA8suf2Hvhtc/Hw/HL/hN/FMdq/iqHxTceA47m0Ghza/Fpy6dHqbJ9m%2B0%2BatskYEQuBb%2BZEkxhMo8ypfCn7IlxoHjTVfij4g/aW%2BIfiTxdc%2BErvw54f8T64miifw1Z3Mkc0psobbTYbZ5DLBbSF7qG4LG1iDblDK3p3/CH6T/z96r/AODy7/8AjtH/AAh%2Bk/8AP3qv/g8u/wD47QB85v8A8EwNDuf2atM/Zb1H9r/4t3egaX41HiOO6uY/DRnuSJpLn7BcxjRRbXNkbqQ3JilhZmkVAXMaiOvQfil%2ByVc/GrwVp3w0%2BJv7SfxB1Pw5/ZxsPGGieXosMPjK3Z8vFqLRaasiI65idbNrVXjZlYEE16X/AMIfpP8Az96r/wCDy7/%2BO0f8IfpP/P3qv/g8u/8A47QB5R4i/wCCd37G3iD9onw3%2B1Un7PvhHT/HPhvWrzVl17TPCmnRXOpXtxC0TT3c/wBnM00iFjIj7wyyANk9KytV/YEi8TaZ4pm8ZftcfFzVfEniTwXL4Us/G5vtHs9V8P6XNMss8dgbLTIYI5ZWSPdPLFLMPLTa6lQR7Z/wh%2Bk/8/eq/wDg8u//AI7R/wAIfpP/AD96r/4PLv8A%2BO0AeO6T%2BwloWj/B3wn8J7T49%2BNo7n4fa3HqXw88V2um%2BHrW/wDDQSwk08W1tDbaVHYtB9lnuoik1rKcXLndlYjHs%2BDv2LPhP4LtfhhYWGr69cwfCnUtS1XQ4b69jkF/qt9Bcw3GpXn7oGS4Ivb5gUMaBryU7MbAnpP/AAh%2Bk/8AP3qv/g8u/wD47R/wh%2Bk/8/eq/wDg8u//AI7QB5Ha/sIfD6z%2BMq/FaL4neMzpsPja48Y2fgNruyOjW2vz2kltJqC/6J9rLFZZZBC9y1uJZDIIgwXFz9kX9jyP9kPRdR8O6V%2B0T4%2B8bWeqXs9/eL43i0V5ptQnlMs99LcWGm2s9xPITgtNJIAqqqhQqgeof8IfpP8Az96r/wCDy7/%2BO0f8IfpP/P3qv/g8u/8A47QAnjn/AJEnWP8AsF3H/otq8u8cf8pC/hf/ANkZ8ef%2BnbwhXqJ8GaG%2BFna%2BmTIJiuNWuZEb2ZWkKsPYgivLvHH/ACkL%2BF//AGRnx5/6dvCFAHs1FFFABXgX7aUmp%2BJfiP8ABX4KX3jXxB4f8M%2BN/Hl9aeI7vwx4ku9HvL37PoWpXlvYre2csVxAHltxMfKkRnFpsJKM6t77XP8AxO%2BE3wr%2BNnhGb4f/ABl%2BGnh/xdoNxIklxonifRoL%2B0ldG3IzQzoyMVYAgkcEZFAHyx4Y1L9pD4%2Bf8E5/hV4j8Na54n8T3T61aP4rPhvxUuja74v8O289xCslpqHn2wiuLiNLS7Z1ntxKnmqsiCUV82%2BLfjD%2B1l8WvgfoekeFfF%2Bv21/4e8JfFvUodP1D4yaholxBpmk%2BIUsdJ1aTVbBpDrd1ZwKIRbTubS78xp5rofupJf0m8Ufs4fs8%2BOPCt54E8afAbwZrGh6jHaR6ho2qeF7S4tLpLQBbVZIZIyjiEKojBB8sAbcYqHxp%2BzD%2BzV8SfDmheD/iL%2Bzz4G1/SPCwUeGdK1rwlZ3VtpAVVRRaxSxstvhVVR5YXAUDoBQBL4W%2BIeoXnwB0b4oeHvDuveMLi78MWeoWun2kFnZ6jqhlgjcfJczw28MrBtxR5UVTkZ4FeVfsM6tf69%2Byxca5qvhi%2B0S5u/jf40muNH1OSB7mxdvH2qloZWt5ZYS6E7WMcjpkHazDBP0SAFAVRgDoBXif7D1haan8Bdfsb6ASRSfGX4jBlJI/5nbWiDkcgg4II5BFAHtlFZX/AAh%2Bk/8AP3qn/g8u/wD47S/8IfpP/P3qv/g8u/8A47QBqVU17QtH8UaHe%2BGfEWmxXmn6jaSWt9Z3Cbo54ZFKPGw7qykgj0NVv%2BEP0n/n71X/AMHl3/8AHaP%2BEP0n/n71X/weXf8A8doA%2BfvBP/BMH4UfDT4R%2BA/hh8PPjV8R9K1D4fa3qeqaX45XU9PudbvJb9JoroXUlzZSQSbopvKV1hSWNIYhG6bSTY8Df8ExPgH8P/DXh7wroni3xhJbeGvDXw80Owa71K2eR7bwbqt3qmltI32cbpJZ7yVbhuA6KgjELAu3vP8Awh%2Bk/wDP3qv/AIPLv/47R/wh%2Bk/8/eq/%2BDy7/wDjtAHiHw2/4J3eBfhT8RNL%2BIHhL46/ERV8L%2BG9d0LwHoVxeabJYeFrPVZraaZLRDY75TE9pB5JunuNipsO5Plr0j45/APRPjv4N0vw5q/jTXdE1TQNatdY8PeLNAe1XUdM1CAMq3MQnglt2LRyTROkkLxvHNIpTB46f/hD9J/5%2B9V/8Hl3/wDHaP8AhD9J/wCfvVf/AAeXf/x2gDjPhn%2Bzhp3wg%2BGlr8L/AIf/ABQ8U2VpBp%2BsC7vmaxlur/VNSuzeXGszPJasDei5kuZgEVbcteS74HAiEfMT/sL%2BB9a%2BDnxG%2BE/jr4seNvEV58WLVrTx1401K6sYtXvrQ262otUNraQ21vCLcNEEhgTHnSyf62RpD61/wh%2Bk/wDP3qv/AIPLv/47R/wh%2Bk/8/eq/%2BDy7/wDjtAHlv7Qn7FHgr4%2B61Dr9t8UPGHgi5PhC88Kaq3gm4sYl1TRLlkaSxlW7tLgRqCnySwCGePe%2ByRc1T8OfsM6L4N/aXf8AaU8H/H/x7p7HQ9O0O28GiLRbjSLLSLONVXTrZrjTZL23glkXzpfLuleSUglsRxLH69/wh%2Bk/8/eq/wDg8u//AI7Xkf7SP7XX7H37J0SwfGz41vp%2Bpyhfsnh2z129u9TuS33QlrDI0uGJADFQuTywrGviKGGpupWkoxXVtJfiehleUZrnmNjg8uoTrVZbQpxlOT%2BUU3ZdW7JdWj3Csrwf/wAgmb/sKX3/AKVy18gj9pb9ur9pM/Z/2Pv2MdX8I6LPxD45%2BOXia909Cp6OmmwTG4cEfMr5KnjIrQsf%2BCZXxl%2BMVmkf7bP7c3jTxTYMP3vgnwLt8PaKVJyYpRDmW6Xk/OxVyTknPXzv7UnX/wB0oyqf3n7kP/Ap2b/7dgz7P/UPDZVrxDmVDCtb04P61iPR08O5Qg/KriI26panqHx4/wCCk37FH7OWoHw98RfjzpMut%2BZ5S%2BHfD%2B/U9QMvaMwWqu0bHt5m0e9ecj/gob%2B1N8YD5f7Jv/BNjx9qdrJxF4g%2BJd7b%2BGbTb2lSOYu86em0gkflXt/wE/Y7/Ze/ZgsVsvgN8DvD3hxxHse/tLEPeSr6SXMm6aT/AIE5ruPFHjPwf4IsP7V8aeK9N0i1/wCfnVL%2BO3j/AO%2BpCBSdDNay5q1eNNdoRT/8nqfpFEzzrw6yZf7Fls8VJf8ALzF1nCHr7DDciS8p4iT7vc%2BWG%2BF3/BYn40DZ47/aT%2BF/wj0%2Bb71v4A8MTaxfpH3Vpb8iNX7bo%2BB1FTaX/wAEeP2dPE9/F4h/aj%2BIvxE%2BM2qxt5iy%2BP8Axjcvawv/ANMre3aNEX/YJYc16F46/wCCl/7AHw53jxP%2B154DLx58yHTNfiv5FPoUtTIwPtjNeeS/8Fpv2L9akaD4RWnxC%2BIcgJUJ4J%2BHWoXG4%2Bg86OIGuCpDhyErYmuqku06nP8A%2BSpuP/kjPJr%2BNePwF6WXYrD4BdsJClRn6e0gquIf/g5fjY96%2BFP7MH7OPwMiSP4O/Arwl4aZBj7Ro2gW8Eze7Sqgdz7sSa7qvkof8FKvjt4p%2Bf4Wf8EtPjnexn7j%2BKtOttEz74mkeg/tef8ABUPX/k8L/wDBJ1bFG%2B7d6/8AGjS0A%2BsSR7/1rup5rllKHLRjK3aNKdvwpxR8HjeL6eZ4h18RVrV5veThXqN/9vSi3%2BJ9a0V8lf8ACf8A/BazxJ82i/s//Abw2G6L4h8VajeFfr9lAz%2BFH/CG/wDBbXX/APkLfGf9nrQN3X%2BwvDuq3W36faSM/jWn9q3%2BDD1X/wBuW/8ASpL8jl/ttS%2BDC1n/ANw7f%2BlTj%2BR9a0V8kv8Asof8FSvGY%2ByeO/8Agp5YaLZP/wAfEHg74U2STMPRZ5X3R/UDNIn/AASQ8L64TqXxO/ba/aE8S6o/3r24%2BJT26R%2BoiiijCxr3280fXswn/Dwsv%2B3pwj%2BTm/yD%2B0s0qfwsFL/t%2BdOH4Jzf5H1vRXyX/wAOgvhcvEH7Xf7RES/3Y/izPj/0VSf8OfPg5c/u9b/aj%2BP%2Bpwd7a/8AitcNGfwVAf1o%2BtZt/wBAy/8ABsf/AJEPrue/9Aa/8HQ/%2BQPrWivkof8ABE/9hOf95q%2Bh%2BNNQmP3rm9%2BIeps7fUrMB%2BlB/wCCIn/BO%2Bb5dQ%2BGfiG7T/nnc%2BPtWK/pcij2%2Bdf8%2BIf%2BDX/8rD6zxC/%2BYan/AODn/wDKj6wuL2ytP%2BPq7ij/AOukgX%2BdULzxx4K05d2oeMNLgA6mbUI1/m1fMdv/AMEPP%2BCXVvz/AMMvpI3dpvGGsuT%2Bd5WhZ/8ABGD/AIJkWLboP2UtLbH/AD21vUZP/Q7k0e1zt/8ALmn/AODJf/Kw9txG/wDlxSX/AHFm/wD3Ej2zXv2kf2d/C0Zm8T/HvwXpyDq1/wCKbSED8XkFchc/8FD/ANgu0na3m/bN%2BF%2B5ThtnjmxYfmspFYOhf8Eqv%2BCdXh2US6f%2ByD4MkI7X%2BnG6H5TM4rr7X9hz9iqygW2tP2QfhfHGo%2BVE8AacAP8AyDRfPZdKS%2BdR/kkF%2BJZdKMfnVl%2BSiU9P/wCCgf7CWqSeVZftl/C1nzgK/jzT0J%2BgaYZrdtf2s/2Vr5Q9l%2B0x8PplboYvGdiwP5S1k6h%2Bwf8AsQarH5eo/sdfC2Udi3gDTsj6HycisK6/4Jkf8E97xi837HXw/BPXyvDkMY/JQMUXz1dKT%2BdRfowvxKulB/Osv0Z1uu/ti/sjeGIftHiT9qX4c2CYyGvPG1hFn6bpRmuRvP8Agpz/AME97F2jm/bF8AMVOD5PiGKQfgUJBqfQ/wDgmt/wT/8ADs3n6d%2Bxx8OnbOf9N8K21yAfYTKwFddZ/sm/ssafGsVh%2BzR8P4FUYVYfBtioH0xFR/wuy/59L/wY/wDIP%2BMll/z4j/4Nl/8AInnF9/wVk/4Jx6eCbj9rvwk2P%2BeFxJL/AOgIai/4J/fGL4afH3xT8ffi18H/ABbBrvhzVvjNb/2dqtqjrHP5XhDw1DJgOqtxJG68jqvpXr1j%2Bz/8BtMOdN%2BCXhG3I6eR4btU/lHXn/7JelaXofxg/aK0vRdNt7O1i%2BM1l5VtawrHGmfBfhgnCqABySfqa6MNHMlNvESg1/dUk7%2Bsm9PkdWEjmyqN4qdNxttCM07%2BspPT5Ht1FFFdp6IUUUUAFFFFABRRRQAUUUUAFFFFABRRRQAUUUUAFFFFABRRRQAUUUUAFfnL/wAFt/8AQf2sP2WfFnT%2Bwdc1HUN393brvhRM/wDkSv0ar85f%2BC9H%2Bg6v4C8V9P7B8Ea3qG7%2B7t8VeCEz/wCRK8nPf%2BRNXfaN/ucX%2Bh%2BgeFOviRlUP56yh/4MjVp/%2B5D9GqKKK9Y/PwooooAKKKKACiiigAooooAKKKKACiiigAooooAKKKKACiiigAooooAKKKKACiiigAooooAKKKKACiiigAooooAKKKKACvGfHH/KQv4X/wDZGfHn/p28IV7NXjPjj/lIX8L/APsjPjz/ANO3hCgD2aiiigAoorzH9o/48%2BLfhHe%2BDfA/wu%2BHVh4q8YePPEEumaBpWseIX0qxjWCxub24ubm6jtrl4o0itio2QSM0ssS4VSzoAenUV8/6j%2B3M9/8As2/Dr40%2BAfhat1r3xL8Q2Xh7R/DOv6%2BLC20/VpTMs8F5exwz%2BWkL2txHvjhlMkioiKTItcLrX/BVrwqnhTwhDoek/D%2Bw8V%2BI9T8S2GpWvjv4rR6JoOmz6Dqi6Tfouq/Y5muWe8eNbZFtg88bNIyxbGUAH11XjP7B/wDyRDXP%2ByzfEf8A9TXW69hsJrm4sYZ7yBIpniVpY4pd6oxGSA2BuAPfAz6CvHv2D/8AkiGuf9lm%2BI//AKmut0AezUUUUAFFFFABRRRQAUUV55%2B0n%2B1V8Cf2SfATfET47ePbbR7NmKWNrzJd6hN2ht4Fy8znI4UYGcsVGTWdWtSoU3UqyUYrdt2SOzAZfjs1xtPCYKlKrVm7RhBOUpPskk2/0SbbSTa9Dr54/aL/AOCk3wQ%2BCfjIfBb4faXqvxO%2BJk5KW3w/8Bwfa7qJhwTdSLmO0RcgsXO5Qd2wjmvkn4v/APBQe8/amkmT41/tT6V%2Bzf8ACQk%2Bd4e0rVlvPHmvwek0VqJX0uNh/Dt39QRIrZHefs6/tMfDH4TeDG8A/wDBLT/gmP8AELxLDcqN3ivVtLXQ7DU5O0s2pXxMtwcnOHAwDhdoPHzNXiCGKnyYaahH%2BZpzm/8ABSim/SVTlXaLPp8Q/DzgifLn%2BKWNxq/5hMNU54wfbEYikquqfxUsPzSWsZV4O6Xff8Kf/wCCoH7X37746/GLT/gF4PuPveEfhrOt74gmjP8ABPqbfJA/%2B1ACD0K1Z8HeHP8Agkn/AME1rmXUrvx54H0fxXuZtQ13xHryan4iuJD992LF7hdx%2B8I1VSe1U4f2F/2tv2t5V1z/AIKGftKT2Ggynenwj%2BE9xJp%2BmBeojvLwnz7vjGVzgMMo%2BK9f%2BDn/AATu/Yf%2BAYif4Xfsw%2BEbK5hA8rUbzTBe3a/S4uvMlH/fVVh8Hi6lRVoUfe6Trycp%2BqhHSHonF9zxMz8SeOs7wUsDl1GngMFL/l1TTpRkuntIUnKrV/7mMRUfeEdjzC5/4LQfsia872nwL8OfEj4oXQJSK28B/Dy%2BnMj9AoadIh14z0qEfHH/AIKz/tAHb8HP2UvBvwh0eX/V638Vtfe%2Bv3j/AL6WVkAYX/2JcjjrX11DDDbRLb28SxxooVERcBQOwA6U6vS%2Bo5hW/j4l27U4qH/kz55fdY%2BL/s7NMR/vOLaXanGNP/yZ%2B0n9zXqfIo/4J2ftRfFg/af2qP8Agpl8SNSR%2BX0b4aW9v4YtFH/PNmhDvMnu2Ca1fC//AARl/wCCemh6h/bviX4MXXi3VDjzdU8ZeJb7UJZf95ZJvLP/AHxX1LRVRyTK73nSU33m3N/%2BTuX5IqPDuS35qlFVH3qOVR/%2BTyl%2BCR514G/ZB/ZR%2BGWxvh7%2BzT4C0WSPG2fTfCVnFLn1LrHuJ9yc16HFFHDGsMMaoijCqowAPQCnUV6FOjRoxtTiorySX5JHq0aFDDx5aUFFdkkvySCiiitDUKKKKACiiigAooooAKKKKACiiigAooooAKKKKACiiigArxn9l/8A5Lf%2B0d/2Wax/9QrwvXs1eM/sv/8AJb/2jv8Ass1j/wCoV4XoA9mooooAKKKKACiiigAooooAKKKKACiiigAooooAKKKKACiiigAooooA5b42%2BCLH4jfCjXfBupa/r2lwXdiS994Z1%2B60u%2Bj2ESDyrq0kjmhJKBS0bqxUsMjNfMz/ABe%2BJ%2Bm/8EUfh/8AFdPiLq0PiHVvhH4L/t7xnNfNJf2sV9Hp0Oo6o1xIS3nRwT3FwZmJIZN5PBNfVPxB%2BHXw%2B%2BLXg6%2B%2BHfxU8CaN4m8P6pGsepaF4g0uK9s7tAwcLLDMrJIAyqwDA8qD1Fc94C/Zd/Zm%2BFfheXwP8MP2dfAnhvRZ9Nm0%2BfR9B8I2VnayWkzFprdooolQxOxJZCNrEkkGgDz79ii41bQ/Gvxq%2BDcHjHXte8N%2BBPiZb6b4WvPEviG61a8toZvD%2BkX89m97eSS3FyI7m7nYNLI7IJhFnEaqPlH/AILZa74k8eL4h8I6t8IfEOiWmi/A3xTLp%2Bvarc6c9prQTxR4HlZ7Vba7lnQJ5Y3faIoD842hvmx%2Bhfw1%2BFfww%2BDHhC3%2BH3we%2BHGg%2BE9AtHdrTQ/DWjwWFnCzsXcpDAqopZiWJA5JJPNfH3/BXrSP7cGo2W3Oz9l/4k3GP%2BuWp%2BEJf/ZK87OIe0ynER7wn/6TI%2By8OcR9U8Qsnr/y4rDv/wArU/8AM%2BzfBur/APCQeENK14Nu%2B3abBcZ9d8at/WtKuE/Zb1j/AISH9mX4da/u3fbvAmkXG7132UTf1ru67KE/aUYT7pP70n%2Bp83meH%2Bp5nXw/8lScf/AZzj/7aFFFFanCFFFFABRRRQAUUUUAFFFFABRRRQAUUUUAFFFFABRRRQAUUUUAFFFFABRRRQAUUUUAFFFFABRRRQAUUUUAFFFFABXjPjj/AJSF/C//ALIz48/9O3hCvZq8Z8cf8pC/hf8A9kZ8ef8Ap28IUAezUUUUAFeYftIfAbxd8XL3wb45%2BFvxFsPCvjDwH4gm1PQNV1jw8%2Bq2Mqz2NzZXFtc2sdzavLG8VyXGyeNlliibLKGR/T6KAPBNP/Y48R%2BHf2T4/wBlbSfFvgXX7C3s7WNZfiP8NG1uzv5vNM99PfWS38CXDT3DPMio0Kwsw4kCiuEH/BLW28H%2BB/C%2Bn/Bf4leG9F8S6N4b8W6HrGr6z8Oo7%2BwvbTxJew32pi3sIru3Wz23EEYt08ySKGDdC0cykEfW1FAHH6B8CvhxpvwK0r9nTxJ4ft/E3hfTPDdpokth4oto75L%2B1t4UiX7SkilJiRGpbK4J5xXnf/BOnwx4a8Ffs3X3g/wb4esdI0jS/i38Q7TTNL0y0S3trSCPxnrSxxRRIAsaKoChVAAAAAr3SvGf2D/%2BSIa5/wBlm%2BI//qa63QB7NRRRQAUUUUAFRX19ZaZZy6jqV5Fb28EbSTzzyBEjQDJZmPAAHJJr5x/ax/b%2BX4ZeOI/2Zf2X/BA%2BJHxl1KHdB4atJcWWhRED/TNUnBAt4lBDbCwdgV5QOrH4T8RfAv8Aa2/4KofGWb4Q6t%2B1hf8AjLw7oV%2Bq%2BPvFnh%2B2Nj4M0WVSGNhptuhB1e6XtcSEKoPIIZZK%2BfzDP6eGqexw1N1al7WTSXN2cn1W8rJ8q1k46J9GSZfmfE2Lr0crgnDDrmr16kvZ4egtl7WraTc29IUaUalacrRjC9%2BX6w/aJ/4K0aXq/iWf9nn/AIJzeBpfjR8TpkZTNo0Zk0TRVztNxc3QKxyKGZR8riLJw0qkBW8x%2BE3/AARL%2BI37QHxC/wCGiP8AgqZ8er/xr4iugG/4RLQr1orO2jOT9nedQpWMBiDDbLEoOSHbJz9p/ss/slfAv9jf4YwfCr4E%2BDYtNsl2vf3smHu9SnAwZ7mXAMjnn0VR8qqqgAelUlks8wlGrmsudrVU1dU4v03m/wC9LTtFI55rG06dXCfW5SozupKEXRjUj2naTqzpv/n3UqKD0c6c3ovMPhF%2BxX%2ByT8BfKk%2BEP7OXg/Q7iHGzULXQoWu%2BOmbh1Mrfixr0%2BiivcpUaNCHJSiorskkvwSMaGHw%2BGp8lGCjHtFJL7kkFFFFamwUUUUAFFFFABRRRQAUUUUAFFFFABRRRQAUUUUAFFFFABRRRQAUUUUAFFFFABRRRQAV4z%2By//wAlv/aO/wCyzWP/AKhXhevZq8Z/Zf8A%2BS3/ALR3/ZZrH/1CvC9AHs1FFFABRRRQAUUUUAFFFFABRRRQAUUUUAFFFFABRRRQAUUUUAFFFFABRWb4z8Y%2BFfh34P1b4geOdftdK0TQtNn1DWNUvZQkNnawxtJLNIx4VERWYnsAa5P4UftOfBX40eDda8d%2BCvFN1DYeG7h4fEaeJNCvdFutKdbeO5/0m11GGCeBTbyxTKzoqtHIrqSpBoA76vkn/goro/8AwkHjy80MLk3f7JnxaiUY/iabwuB%2BuK9x%2BA/7VnwO/aUm1G0%2BEniPU7i50uysr68sta8LajpFx9jvPN%2ByXkcOoW8LzW03kTiO4jVonMMgViUYDzf9qPR/%2BEh/am8OaBt3fbv2cviXb7fXffeE1/rWGKh7TC1Id4yX3xkv1PVyHEfU89wmI/kq0pf%2BA1aUv/bTqf8Agndq/wDbn7Bfwav924j4ZaLCxz1MdlFGf1WvZK%2Bcv%2BCRmsf25/wTd%2BEl7uzs8Mm3z/1yuJYv/ZK%2Bja58rn7TLKEu8If%2BkxPW48w/1TjnNaH8uJxC/wDK9X/MKKKK7z5QKKKKACiiigAooooAKKKKACiiigAooooAKKKKACiiigAooooAKKKKACiiigAooooAKKKKACiiigAooooAKKKKACvGfHH/ACkL%2BF//AGRnx5/6dvCFezV4z44/5SF/C/8A7Iz48/8ATt4QoA9mooooAKKK%2BYv%2BCj5%2BEY1n4N/8NRnQP%2BFPf8LAu/8AhPf%2BEw8n%2Bw/M/sTUf7P/ALS8/wDc/Z/tWzb537v7T9l/5aeXQB9O0V8CmPwz41/4Je/Dez%2BKnxU8BWlh4O1bSNT1rw38ZvE40/S9X0MzTjStN1qaZJXtxNaPZzIZ4ZS81vEHjfLCvA/2hh%2B0/rv/AASrn8N67%2Bz1resfDC1i8a%2BIbW58C6rpsNhBapr123hu18vUr20uW0m3tWjuoDFCzOkGnYjjVXiIB%2Bu1eM/sH/8AJENc/wCyzfEf/wBTXW69J1bW/Htz8PD4g8G%2BBLb/AISKbTkntPDvifWRZJHOygm3uLm0ju1jK5Ks8SzrlflLAhq8o/4J03HiW7/ZuvrrxlpNjYavJ8W/iG2p2Omai93bW858Z615kcU7wwtMgbIDtFGWABKLnAAPdKKKKACvkr/gox%2B2f4k8D3Uf7Jn7OPimxsPiJr2ky3/iHxVeShbPwFoCD/SNXu36I4TIiU8liDyTGsnov7eX7Ylj%2ByF8JItR0DR113x34ouxpPw88KI3z6nqL4CswyCIItweRsgAYXcC618IfsTfsja9%2B3D4w1a48beKbnXPh0PES6l8XvHm9lf4oeIYm3Lp9s4AI0ezb5V24WQjcoBZBB8zneZVnVWX4PWrPeztyp%2BfRtauX2Y6r3pQR35JkFTivHVaE6zw%2BCw8YzxeISu6VOTfJSpLRTxWIacKML%2B6uarPlhByOm/ZV/Zd1f8Aaq8Hz/DT9nK317wB8AL65L%2BN/ifqYZPFnxcuAT5riWQF4LJ2L8nghmABLSIv6L/Cj4TfDj4G/D/TPhZ8JvCFnoWgaPbiHT9NsY9qRr1JJOS7scszsSzMSWJJJrb0zTNO0XTrfR9HsIbS0tIEhtbW2iCRwxqAqoirgKoAAAHAAqevRyzKaGXQvvO1m7Wsv5Yr7Mb9N2/ek5SbZ7WecSU8bgaWUZVh1hMtoO9KhB3V7W9rWnZOtXkviqT2u40404aSKKKK9U%2BWCiiigAooooAKKKKACiiigAooooAKKKKACiiigAooooAKKKKACiiigAooooAKKKKACiiigAooooAK8Z/Zf/5Lf%2B0d/wBlmsf/AFCvC9ezV4z%2By/8A8lv/AGjv%2ByzWP/qFeF6APZqKKKACiiigAooooAKKKKACiiigAooooAKKKKACiiigAooooAKKKKAPMP21PhD4q%2BPn7JnxD%2BDvgV7Ua34g8KXlro8d9KUt5roxkxRSsASsTuFR2wcKzHBxg%2BV%2BBfBX7RvjDVPjZ8TtS/Z/ufCGrfFLRYtL8MaF4vvtJv4dPax0h4ornVFs7ueN47i6uJIxHA05MNuhk8vfsX6jooA%2BRf8Agmn%2BzX8SvgX4y8Ta1rvwi8X%2BDNBvfAPhbRo9P%2BIXji38Rapc6pp/9oC5lt7mK8uzBpojuLdYbXzY40fz2jtbbe5l6/WvAWv6X/wUs8Iatr3xa8Q69Ya58GvHP2Pw/qttpyWmioNV8JBktmtrSKdw%2B4Z%2B0Szn5BtK/Nn6Lrxnxx/ykL%2BF/wD2Rnx5/wCnbwhQNNp3R5r/AMEQ7mZv%2BCaPw/0m6bM%2Bl3WtWU3sU1e8wP8AvkrX1hXyX/wRo/0H9lfxD4T6f2D8WfE2n7f7u2%2BZ8f8AkSvrSvKyL/kS4ddoRX3XX6H33isl/wARMziS2liKs/8AwNxqf%2B5Aooor1T4AKKKKACiiigAooooAKKKKACiiigAooooAKKKKACiiigAooooAKKKKACiiigAooooAKKKKACiiigAooooAKKKKACvGfHH/ACkL%2BF//AGRnx5/6dvCFezV4z44/5SF/C/8A7Iz48/8ATt4QoA9mooooAKKKKACiiigArxn9g/8A5Ihrn/ZZviP/AOprrdezV4z%2Bwf8A8kQ1z/ss3xH/APU11ugD2aue%2BLHxT8DfBH4ba38W/iXrsem6D4f0%2BS91O8l/gjQdAOrMxwqqOWZgoySK6GvzG/4Kd/tT2/7QPi7W/Bug2p1b4W/CHWbe11WwhBdPHnjmUlbDQUC/66CB8y3CjORHIMA%2BU1eXnGZQyzBupvJ3UV52vd%2BUVq/klrJEwoZjmOOw%2BWZZT9pi8TONKjDZOcusn0hBXnUk9IwhJto82j0744/8FPf2tVTVDd6Lq/i/RhJdop3f8K38Ay8rCDyo1TU0bJ7iGbp5czLF%2Bs3w0%2BG/gn4P%2BANI%2BF/w38PQaVoWhWEdnpmn2y4WKJBge7E8kscliSSSSTXk3/BP39kp/wBlT4KeX40vf7U%2BIXi%2B5/tv4keIZmDy32qSjc8YYceVDuMaAYXAZgAXNe61x5Dlk8HSeIr61qmsm90nrb16ytpeyWkEfYcQ4nLMswNLhrJqntMJhpSlOrs8XiZWVbFS8pNezw8X/Cw0IRSTnO5RRRX0B8iFFFFABRRRQAUUUUAFFFFABRRRQAUUUUAFFFFABRRRQAUUUUAFFFFABRRRQAUUUUAFFFFABRRRQAUUUUAFeM/sv/8AJb/2jv8Ass1j/wCoV4Xr2avGf2X/APkt/wC0d/2Wax/9QrwvQB7NRRRQAUUUUAFFFFABRRRQAUUUUAFFFFABRRRQAUUUUAFFFFABRRRQAUV5h%2B2n8XvFXwD/AGTPiH8Y/A0dqdb8P%2BFLy60d76Ivbw3QjIillUEFokcq7rkZVWGRnI87%2BGHxp%2BKvwab47%2BBvil8QtU%2BJTfCbR7TXtJ13VNPsbO/vbefS5LlrGZbC3gty6zW0xV0hU%2BXcRKwdkLuAfSdeM%2BOP%2BUhfwv8A%2ByM%2BPP8A07eEK4T/AIJzftAePfixZXGnfGzx18QbrxfqvgzRPFQ0bxn4c0TT7CKxvRcYudJGmIZhaPKjx%2BTfyyXkQhi8wKZMvtX/AMTvDfjH/gpt4L8GaTpviGG88PfB7xxHfzar4R1GxtJS%2BreEsG2urmCOC9A2nLW7yBcjcRuXIByX/BJv/iXWH7QnhNuP7J/ae8VxRL6RMbZ0P45NfWlfJf8AwTh/4lX7RX7VHhTp5PxpbUNv/X1aRvn8dtfWleTkemWQj2c191Soj9A8Ufe45xNX/n5HDz/8DwmEl%2Bdwooor1j8/CiiigAooooAKKKKACiiigAooooAKKKKACiiigAooooAKKKKACiiigAooooAKKKKACiiigAooooAKKKKACiiigArxnxx/ykL%2BF/8A2Rnx5/6dvCFezV4z44/5SF/C/wD7Iz48/wDTt4QoA9mooooAK8i/ai%2BLnxX8HeJfh58IPgbc%2BHrHxP8AEPxLdWMWt%2BKtIn1Cx0u0tdNur6aZrWC5tpLh2MEUKoJ4wPPMhYiPY/rtef8Ax%2B/Z80j49Wfh%2B5Hj/wAReEde8J64dW8M%2BK/CjWn27TrhrWe0l2re29xbypJb3M8bJLC6/OGADojqAeM%2BKP25/iEn7FHgH9oa2tfC3hTU/E/iO10Pxf4i8SQz3egeEJFnntr2/nVJrd5LRbi2aGNnmhGbmFpHUBq5i9/bv%2BPXiz9hrUP2yfhh45%2BGcUPg668SadrNrqXhHUrqLxlqOm6pNp1nFpRiv43tF1B4E8gMt6%2B69hRVmK5k958MfsuL8OvgpafAz4Q/HXxr4S07TLKzttH1LTF0q5vbEQD964e%2BsLhJ5LlizzPOkpLuzJ5ZPHD%2BKP8Agm94M1iz%2BHlp4T/aI%2BJHhj/hXOp6prFg2lvot4NV1vUJnmudYvY9S026jlvTLPdSLIixiNruYoq7l2gHuOu%2BP/DHgfwFJ8RfijrmneFtMs7FbnWL3XdSit7fTlIG7zZ3YRqFJ2liQM15N/wTp8T%2BGvGv7N194w8G%2BIbHV9I1T4t/EO70zVNMu0uLa7gk8Z600csUqErIjKQwZSQQQQa9vsoJbWzitZ72W5eOJVe4mCh5SBguwRVUE9TtAGTwAOK8e/YP/wCSIa5/2Wb4j/8Aqa63QBkf8FJP2kfEP7Of7NF5/wAK0R7jx941v4fC3w8sYD%2B9m1a9JjjdfeJd8uTxuRQfvV8w/sG/szeF/iD%2B0Vovgvw8sd98Mf2Xlawh1BFzF4p%2BIE6q%2Bo6ixP8ArBbk7U3ZKMIip2nFYn7Zv7Rd74/%2BPHxH/aj0EveaF%2Bz/AGMngf4UW8I3jVPH%2BqAQTTxL0ka0VgCvXMSupr7g/Yj/AGb9N/ZN/Zd8IfA61jjN7pelpJr10hybvUpf3l1MW6tumZ8E5IUKOgFfHwX9tZ65PWnT/FRlp/4FUi5ecaUejPqeDmsn4fx3Fr/jYhzwGDf8sFFPHYiPnJSjhoSW3PUaZ6tRRRX2B8sFFFFABRRRQAUUUUAFFFFABRRRQAUUUUAFFFFABRRRQAUUUUAFFFFABRRRQAUUUUAFFFFABRRRQAUUUUAFFFFABXjP7L//ACW/9o7/ALLNY/8AqFeF69mrxn9l/wD5Lf8AtHf9lmsf/UK8L0AezUUUUAFFFFABRRRQAUUUUAFFFFABRRRQAUUUUAFFFFABRRRQAUUUUAZnjTwb4V%2BIvg7Vvh9460C11XRNd02fT9Y0u9iDw3lrNG0csMinhkdGZSO4JrjfhL%2Byp8Ffghay23w%2B0nW0N3fS3mp3GseMtV1SfU5ntorXdeS3tzLJehIIYoo1naQRJGojCAV6LRQB5z8Cv2T/AIEfs23V9f8Awh8JXllPqFha2Ek%2BpeIr/U3gsbUyG2sbdr2eU2tpCZpTHaw7IY/MbagzXl/x3%2BJ9p4G/4Ko/s6%2BDr2RQPGXwu%2BJGmWwbj9/FceF70H67LWUY96%2Blq/O//gsx4j1P4X/tmfsr/tB2Uvl2fw%2Bute1PX5v7mmzar4YsbjntkXSrn3rizDEPCYOVZfZs36c0b/g39x5%2Ba4qWBwE8QvsWb9OaPN/5K2/keufsWf8AEp/4KQftdeFzwF1bwfqCD1%2B0aRIzEfior60r5L%2BAH/Em/wCCvX7QOm9P7a8B%2BFNQx/e8mKSDP64r60rmybTCzj2qVV/5Uk/1P1DxJ9/PsPW/nweBl/5aUov8abCiiivWPz8KKKKACiiigAooooAKKKKACiiigAooooAKKKKACiiigAooooAKKKKACiiigAooooAKKKKACiiigAooooAKKKKACvGfHH/KQv4X/wDZGfHn/p28IV7NXjPjj/lIX8L/APsjPjz/ANO3hCgD2aiiigAoorj/AI0/Hn4Y/s/eHbLxL8TtVv4Y9U1RNN0my0bQL3Vb7ULto5JRBbWdjDNcXDiKGaUrHGxWOGR2wqMwAOworz7xD%2B1N8B/DXwa0T4/XXjr7Z4W8TLZHw1eaJpd1qM%2BrtdgG2jtbW1ikuLmRwciOONnADEqArEc74x/b6/ZR8B%2BBNB%2BJPiX4k3aaT4itb%2B6sHtPC2p3U8FtYOseoXF3bwWzzWENpIyx3MtykSWzsEmaNjigD2Ovnr9mbxnF8Of2PviD8QpmUJoPxH%2BKeouW6AQeLtelOf%2B%2Ba%2BgoJ4LqBLq1mSSKRA0ckbAqykZBBHUEd6%2BHPjF44Hw9/4I/fHvX/ADthm8Z/E/Tg2cc3njbWbMD858VzY2t9WwdWt/LGT%2B6Lf%2BRx5jiPqmX1q/8AJCUvujJ/mkeE/wDBOzwInx18S/s6/s9m3%2B0aH8LfDk/xW%2BIk7jd9u1/UriV9KSZjyZkikScE9YyRngV%2BrlfEf/BBf4PweFP2L4/jnqLtLq/xG1Fpmkl5kg03T92nWNrnuscdu7L7S19uV43C%2BGdHKIVZfFUSf/bqiowXyir%2BsmfecXQp5UsDw1R/h5Zh6eHfS9bljUxU/WWIqTjfe1GIUUUV9EfHhRRRQAUUUUAFFFFABRRRQAUUUUAFFFFABRRRQAUUUUAFFFFABRRRQAUUUUAFFFFABRRRQAUUUUAFFFFABRRRQAV4z%2By//wAlv/aO/wCyzWP/AKhXhevZq8Z/Zf8A%2BS3/ALR3/ZZrH/1CvC9AHs1FFFABRRRQAUUUUAFFFFABRRRQAUUUUAFFFFABRRRQAUUUUAFFFFAEd7e2enWcuoahdxQW8ETSTzzSBUjRRlmZjwAACST0rA%2BFvxh%2BEnxx8Kr47%2BCnxS8OeMNDa4eBdZ8La3b6haGVMb4xNA7puXIyucjPNcL%2B338PvGnxW/Yo%2BKfw4%2BHmjS6nrOs%2BBtRtbLSIHCvqZaBt1mpYhQZ13QjcQv7zkgZNeY/A3X/iD4j8efHP4r/A/wCHOs%2BHJfHtvZRfDS2%2BIXgfV9GtLvWbDRFje9voZLVZ7O2MjWlrvlRHlWwbyRIqxlgD6T8OfET4f%2BMdb1vwz4R8c6PqupeGr5LLxHp%2Bm6nFPPpVy8STJBcxoxaCRopI5AjgMUdWAwwNfJf/AAVH%2BEP/AAvbxV/wrCK18%2B5vv2afiPPp8OM77u31Twhc24/7/Qx1P/wS9%2BCn7RPwL%2BKvxo8M/Gj4P6RoVpe6rol3F4h03xbeasfEOotpcJvr0zXGlWKztLOZJpZEGFnlljCAIGPe6lpXxUg/4KZ%2BDbjx14y8O6loN18HfHH/AAjmmaZ4Xns7qxj/ALW8JeYt1cSXsyXZbK4KQ24XDZDbhtxxFCGJw86MtpJp/NNfqc%2BLw8MZhalCe04uL9JJr9T54/Y/%2BNYvf21/g98evF83%2Bg/Hr9nO00ex1Lf8j%2BItLkEl5buTxnaH2nOSSFxk1%2Bh9flx4J%2BCfivWf2B/id8EvhwWi8ffsqfHDVNY%2BHLKpaQQW1wb%2BEADllnhmuVCdGYJnpX6Jfs5fG/wv%2B0l8CvCvx28GuP7P8UaLDfRxB9xt5GXEsDEfxRyB42/2kNfPcO15qDo1N5JVF6v3Ki/7dqQfykj7jGV5cS%2BHmS8QL%2BJSprA4hfy1cOpeyl5KrRcvWdGXex2tFFFfTnx4UUUUAFFFFABRRRQAUUUUAFFFFABRRRQAUUUUAFFFFABRRRQAUUUUAFFFFABRRRQAUUUUAFFFFABRRRQAUUUUAFeM%2BOP%2BUhfwv/7Iz48/9O3hCvZq8Z8cf8pC/hf/ANkZ8ef%2BnbwhQB7NRRRQAV4l%2B1t4N%2BJx8d/Cn46/DH4ZX/jaT4feLb661bwppF/ZW17dWl5pF7ZGa2a%2Bnt7cyxyzwkrJNGDE021iwVH9tooA%2BRvD/wCzp8RPDv7EXhL4Z%2BM/hJ48l8aeB9YtfEelT/DTW9BW9sNWuZ7ieUafJqtwlpKlqt5NayC7RY5Yi%2BxJMgV5j4T/AGPf2s/gD4DtfE2ifCLVPiHr3i/wX8RtM1rRrrxTpgutEv8AxFry6vZyXk88sEEsKhpI7x7QORKqtbwSxkBP0HooA4jwb8Jdc8J/s8aF8EdN%2BJWqaVqGjeFLHSE8U6PBbPdxvbwRxG4jW8hnhLHYTiSNx83Svzm/bw8S3Hwx/wCCMGs%2BCte8VX2tS6z%2B0b4s0i81XU44EudRMXjjXLtpZVt4ooQ7/Yy7CONEznaqjAH6oV%2BMX/BWvx1b6b%2Bx94J%2BHFy%2B5dV/aB%2BLuo%2BWOfntvFGswIcf716MfWvA4prew4exMu8bf%2BBNL9SqOWf25jsLlVr/AFqvh6Fu6rYihTkvnGUz9Lf%2BCaXhH/hCP%2BCf/wAH9CMWxn8AadeOmMYa5hW4bPvmU17hXP8Awm8JL4B%2BFfhnwKsYQaL4fsrAKO3kwJHj/wAdroK9bB0fq%2BDp0v5YxX3RS/Q9jiTMP7X4jxuOvf21arP5Tq1JL8JIKKKK6TxQooooAKKKKACiiigAooooAKKKKACiiigAooooAKKKKACiiigAooooAKKKKACiiigAooooAKKKKACiiigAooooAK8Z/Zf/AOS3/tHf9lmsf/UK8L17NXjP7L//ACW/9o7/ALLNY/8AqFeF6APZqKKKACiiigAooooAKKKKACiiigAooooAKKKKACiiigAooooAKKKKACiiigArxnxx/wApC/hf/wBkZ8ef%2BnbwhXs1eM%2BOP%2BUhfwv/AOyM%2BPP/AE7eEKAPFbnxfpf7FH/BUzxTrvxOhl0rwL%2B0PpGkRaP4jkUfYIfEljG9v9kmfOIXlhO4E4Dsw64Yqz9i3xXoP7Ef7VHjz/gnr4/1NdI0LXvED%2BJ/gfJegxwXlneZe60yByAu6CbIWPO5tznuM/UH7QHwC%2BF37Tnwm1f4K/GLw5Hqeh6zb%2BXPGcCSBxyk8T4zHKjYZWHQjuMg/B/xAn8M/Dfwh/wwD/wVrTU7vwza3qL8H/2h47Z1QKAfs/2i7UMbK/hwFLtlHVT5mVHmSfJY2lWyzERqRaUVKUoyeiTn8dOb%2BzGT1hPaMtJdG%2B/hDiHLOFKuMyfPeb%2By8fa9SCTlh6yn7SFTldoyUZynZNw56dSrSc4y9lJ/pHRXxF8Nf22Pi9%2Bw9FZfDH9v2W78T%2BBpWjj8FftE%2BHrQ3enajaPjyRqYhLNBPggeaNwk6/MA0rfZfhDxl4S%2BIPhqz8Z%2BBPE%2Bn6zpGoQiWw1PS7xJ7e4Q9GSRCVYfQ17%2BCzHD41NR0mvii9JL1XVdpK8XumezxHwjmvDnJXnarhav8LEU3zUaq392a2lZrmpT5KsHdShpzS0qKKK7j5cKKKKACiiigAooooAKKKKACiiigAooooAKKKKACiiigAooooAKKKKACiiigAooooAKKKKACiiigAooooAK8Z8cf8pC/hf/ANkZ8ef%2BnbwhXs1eM%2BOP%2BUhfwv8A%2ByM%2BPP8A07eEKAPZqKKKACiivEv2tvGXxOHjv4U/Ar4Y/Ey/8FSfEHxbfWureK9IsLK5vbW0s9Ivb4xWy30E9uJZJYIQWkhkAiWbaoYq6AHttFfHPif9qj9orxF/wT%2B%2BGvxE8La5df8ACe%2BKvGNh4c1KTwhY6cNU1por2e3vJNJi1INYR3EsdpLcqLo%2BRHD5pLDYrV4544/bP/bm1H4GeF18C%2BMvGN74q0/w18R73xTZeFdD8OHXrG50bWks9OOtRX0JsjBDFvivl0sGae5G6wWWDLUAfpTX4dftoXlv8T/2mvh18AJl80TfE7xnHCmMgT6j8VdVhK/7xjtCcelfsxpPxT0eD4J6d8YdXvJtXsp/D9rqUtz4T0K91A3aSxI/mWtrbxyXMqtu3Kioz7SMjg1%2BK/7Omv2P7Qv/AAVnsI7Wwv0t7D9pHVrjSU1XS57K4WG213xFqzh7e4RJoHVp0LRyIroxwyggivleL/fy2nQ/5%2BVKcf8Aya7PouCo83HuUSe1Os678lhsPi8Tf5SpU38j91aKKK%2BqPnQooooAKKKKACiiigAooooAKKKKACiiigAooooAKKKKACiiigAooooAKKKKACiiigAooooAKKKKACiiigAooooAKKKKACvGf2X/APkt/wC0d/2Wax/9QrwvXs1eM/sv/wDJb/2jv%2ByzWP8A6hXhegD2aiiigAooooAKKKKACiiigAooooAKKKKACiiigAooooAKKKKACiiigDz/APar%2BNVz%2Bzn%2Bzf42%2BOOn6Cmq3nhjw5dX2n6ZLMYo7u6VD5ELuASiNKUVnAJVSTg4xXJ/s/fFv4%2BeJPEvxK%2BBXxdv/CF9428DfYJdP17w7ol1YaXf29/ZGW3aS0murmWJo54riJwJ23pGjjYZCielfFz4WeDfjh8LPEXwb%2BIdhJdaF4p0W50rVoIZmika3niaN9jrho3AYlXUgqwBBBArhPhd%2ByWfhbF4g1G0/aI8f6v4h8VyvJ4j8W6x/ZDX96wsks7XiLT44IhapGHiWKJFMjO8wmMj7gDN/Zc%2BM/xq8Z/F34lfBb4u674R8TN4BOkJ/wAJh4I8P3Wl2T3t3FPLcaVJb3F5eEXNtGlpM7LMQY9RgBRGVs49/wDFz4UeOf8Agpt4L8BeCfid4e1jXfDHwe8cReJdF0rWoLi70l5NW8JeWtzDG5eAtsfAcKTtOOhrrf2Qf2TbT9j34ev8MNC%2BOXjTxjpKsJLRfGcOkGaCZpJZbi4aaw0%2B1kuZ7iWUyzTXLTSO437gzOXp%2BOP%2BUhfwv/7Iz48/9O3hCgD2aszxj4L8IfETwxe%2BCvHvhfT9a0fUYTDf6Xqlok9vcRnqrxuCrD6itOilKMZJpq6YpRjOLjJXTPjPxF/wTW%2BMn7P8WpTf8E8/j3b6L4e1EyPf/Br4k2bav4Xu9%2Bd8cZbdNaI/8QXcWzgsBxXypr1z8T/2J/Et54ss/A/xF/Za1aa5M2pyaHp7eLPhlqsnGZHii3SWBfsEWRo14VVIr9d6SSOOaNopY1ZGUhlYZBB6givnsVw5hqtnh5um1slql/h1Uof9uSS/us2yDMeIOD5VP7Axbo06n8ShOMa%2BFqJbKeHqqULdnHklG/uSgz4F%2BCX/AAWpms9JD/tNfCi21DTbdM3XxI%2BDd%2BNd0ZU7zXVqp%2B2acv8AszKX6fKAa%2Bvvgb%2B1H%2Bzv%2B0too174EfGTQPE8Plh5YtNv1NxAP%2BmsDYlhPTh1U815x8Zv%2BCWP7CXxv1RvE2v/AAE03Rtc8zzI/EHg%2BWTSLyOX/nrutGRXf3dWr5W%2BL3/BvFBd66vjP4Cftca5p2p21w1xayeLNLS5u2lIIBbUbRoLjjsSHIAFcqnxZl2jhHEQ8pcs/wAUr/NfM%2Bhnn/DWaK%2BZ5VPC1etTA1FUot93hMVKFSHpRxckukdkfpbRX5i%2BGvhj/wAHEP7I6pZ%2BFfG3hj4yaPafds9W1iK7d0Hcy3n2W6Jx/CJW56ZrvdB/4LIftDfCuL7P%2B2j/AMEzfif4Yjt1/wBK1/wrpsl7Zse7ATLGige078V10%2BJMNHTF0qlF/wB%2BDt/4FFSj%2BR4OMnkVF3oY6El2qQrYefzjVpuN/wDDWkvM%2B/aK%2BWPhf/wWl/4Jt/FJ7eztv2jbPQr6cfPZeKtNudO8hv7rzSxiAH6SEe9e9eA/j98Cfimqt8MfjV4S8RhjhToPiO1vMn/tlI1erh8xy/Fr9xWjL0kn%2BF7/AIHm0sdga7tSrQl/hnGX5SZ1tFFFdh1BRRRQAUUUUAFFFFABRRRQAUUUUAFFFFABRRRQAUUUUAFFFFABRRRQAUUUUAFFFFABXjPjj/lIX8L/APsjPjz/ANO3hCvZq8Z8cf8AKQv4X/8AZGfHn/p28IUAezUUUUAFcd8avgN8Mf2gvD1j4a%2BJ2lahNHpeqJqWk32ja/e6Vf6fdrHJEJ7a8sZobi3cxTTRMY5FLRzSI2VdlPY0UAeX6v8Asafs66z8MrD4Oy%2BC7618O6ONNOgWGl%2BJ9Rsjor2CeXayWEtvcJJYSImQZLdo3fc28tuOcPXv%2BCdv7IviLwjo/gm8%2BHWqW9notpqdrBPpfjbWLK8u7fUpxcajDe3dvdpcahHdTgTTpdSSrNJ87hm5r2yigCDS9L03Q9MttF0bT4bSzs4EgtLW2iCRwxIoVURRwqgAAAcACvx2/wCCbHhJfEv/AAWN8U61Pbfv9G%2BOvxi1QEjrAdSewjb6b3lX6g1%2ByFfmZ/wSv8G6fJ/wVG%2BNHiayfzTozeObe7O3AS4vfiJrFwPx8qFFz1IFeDnlH21TCL/p9F/cpP8AQ%2B14Fw/%2B347Hv/mGwWMkv8VWlTw0fv8AbyR%2BmdFFFe8fFBRRRQAUUUUAFFFFABRRRQAUUUUAFFFFABRRRQAUUUUAFFFFABRRRQAUUUUAFFFFABRRRQAUUUUAFFFFABRRRQAUUUUAFeM/sv8A/Jb/ANo7/ss1j/6hXhevZq8Z/Zf/AOS3/tHf9lmsf/UK8L0AezUUUUAFFFFABRRRQAUUUUAFFFFABRRRQAUUUUAFFFFABRRRQAUUUUAFFFFABXjPjj/lIX8L/wDsjPjz/wBO3hCvZq8Z8cf8pC/hf/2Rnx5/6dvCFAHs1FFFABRRRQAUUUUAFFFFAHG/Er9nX9n/AOMriX4u/A7wh4ocLtWTxD4btbx1Hs0qMR%2BFfOfxO/4IV/8ABNj4k%2BdcWvwUuvDN3MSWu/DGv3UG0n%2B7FI8kK/QR4r6%2BorhxOWZbjf49GMvWKv8Afa/4kunRk7zhGX%2BKEJr7pwmreW3kfnPrf/BBHxf4KzL%2By/8A8FGPif4PEX/HtbXtzJLj0XzLSe22/UIfpXKah%2Bwl/wAF5/hGzXHw6/btTxhbxj9xFdeK5Tctj%2B8uoWskf/kQ1%2BodFeTPhXKt6PPT/wAFSaX3czX4Ho4bEZTSVq2WYWov%2BvUqb/8AAsPXoNeqifk9/wALf/4OIvhErt8S/DfiPV44mOwaN8P9C1veo6c2E0Tnj2zVYf8ABYj/AIKJ/Dz5fi5pnw/8NRp/rv8AhZHwn8U6ZMv1%2BxiZAfzFfrVQQCMEZB6isXw7j6X8DH1V/ifN%2BOjPVjV8Pq/8fKa1J98PmGKhb0jiIYuP3yZ%2BZfgv/gtf%2B0H4g2eRF%2BzhrG7GAnxSm0Mt/wCDSOPb%2BNeseD/%2BClv7bPinaND/AOCdvhvxIjfduPB/7RWgX2//AHY0BY/nX1N40/Zp/Zz%2BJG8/EP4A%2BCtdMn3zrHha0uS34yRmvJ/GH/BIv/gm5443/wBs/sleGoN/X%2Bx2uNPx9PsssePwpf2dxLS%2BHFKXzt%2BdOaH/AGP4aYj4MfmmHfmsBiUvvhh5v8DmP%2BHhv7WGl/8AI0f8Eo/irDj739k6rY335bGGaX/h6d4p07/kY/8AgmV%2B05Dj7x074cpdgfitwKP%2BHMn7KOif8ku8dfFbwPt/1f8AwifxLvofL/3fOaSj/h2f8ZvDf/JNP%2BCovx7s9v8Aqx4m1y31kD6iWJMijl4np7tv0dF/%2BlRgw/1O4Wrf7txXOHlXy6S%2B%2BVGrUj%2BDE/4e9/DO1/5D/wCx7%2B0XpOPvf2j8Jpl2/XbK1A/4LO/sl2//ACG/BnxT0zH3vt/w0v1x9dqtS/8ADJ3/AAVL8M8%2BFP8AgqfZ6vEv3LTxL8HNO/WaKTefyoPhL/gtp4b/AOQP8W/2ePEoX/oPaDq1mzj/ALdiQDR9az6HxKf/AIJpy/8ASKwf8Q8xVT/deKcvn/jhWo/%2BnKCS%2B/5h/wAPuv8Agnjb/wDIZ%2BJfiLTvX7b4A1Zcf982xqW1/wCC4P8AwS7um2L%2B1DHG3dZ/CGsx4/76sxUX/Czv%2BCzvh3/kMfswfBXxHt6/8I/41vLTd9PtSnH41FdftW/8FMLBfL8Z/wDBI6HUoh9640f4yaTNn6RPHuo/tLMo/FNr1w1X/wBtnIP%2BIYccz/3fNMtq%2BmIoL/0uvSf4G7af8Flf%2BCZl7jyf2r9HGf8AnrpV/H/6FbitK1/4K1f8E4LzHk/tc%2BFRn/nrLLH/AOhRivPLv9tL4r22f%2BFgf8EcPiR/t/2VY6bqf5bSM1m3X7dnwBTK%2BO/%2BCSXxy0/H35rz4D280P8A32shz%2BVH9sYlfFXpr1pV4/ow/wCIU%2BLj/hU8PV/wVKEv/Scff7kz2e1/4Kgf8E87zHlfth%2BAxn/nrrsaf%2BhYrRtf%2BCi/7A15jyf2zfhkM/8APXxrZR/%2BhSCvna6/bv8A%2BCXR/wCR3/Yu1zSP7/8AbnwDxt%2Bu2F6z5f25v%2BCBF1J5Hif4f%2BALCVj/AKrV/gVOpz7/APEuYfrR/bk1visP8/aR/OwPwn8cLXhlMp/4aNaf/pudQ%2Bqrb9u79h%2B8/wCPT9sn4VSk9k%2BIemk/%2Bj60Lb9sP9ke8/49P2pvhzLnp5fjewb%2BU1fKFr%2B0F/wbyeIgPK0D4Gpu7zfDKO1P/j9mtaVrf/8ABvt4gx5UX7Pce7/nra2Nt/6Eq4raOb4ifw18M/8At%2BX%2BZ51fw%2B8Y8L/Gyea9cPjF/wC4WfVVv%2B07%2BzXd/wDHr%2B0L4Gkz08vxbZn%2BUlXIfj78Cbj/AI9/jV4Sk/3PEdqf5SV8t2vwh/4IJ%2BIOLBv2dpmP8EHifTFb8lnBFaNr%2Bxt/wRQ13H9m%2BCfg1c56fZPEtuc/98XFbxx%2BYy%2BGVB%2BlSX/BPJrcP%2BI%2BG/jZdy%2BtPFR/9Kw6PptPjR8HZRmP4seGm/3ddtz/AOz08fF/4SkZHxR8O/8Ag7g/%2BLr51tP%2BCbH/AASO1jB074G/D24z0%2Bza0zZ/75nrUtf%2BCSH/AATIv18yx/ZY8MTD1ivLlh%2Bk1bxrZzL4YUn/ANvz/wDkTzKtPiyh/Ew9OPrKqvzpI9zf4zfB%2BMZf4reGlx1zrtuP/Z6gl%2BPXwMgGZvjP4TT/AHvEdqP/AGevG0/4JDf8E2U6fsk%2BG/xkuT/OWp4v%2BCS//BOGH7n7IvhQ/wC9DK383qufPP8An3S/8Cn/APIGPtOJP%2BfVH/wOp/8AIHqk37Sn7Odv/wAfHx%2B8FJ/v%2BKrMfzkqrL%2B1f%2By1B/r/ANpXwAn%2B/wCMrEf%2B1a8/h/4JXf8ABOuD7n7IHgo/7%2Bmbv5k1Zi/4Jif8E9ofufsd%2BAT/AL/h%2BJv5ijmz3%2BWl/wCBVP8A5EOfiT%2BSj/4FV/8AkTr5P2xv2RITiX9qj4cL/veOLAf%2B1q86s/jT8HPi/wD8FC/h2PhL8WfDPig6d8GfHH9of8I7r1ve/ZfM1bwl5fmeS7bN2x9ucZ2Njoa34/8Agmx/wT/i%2B7%2Bxt8OD/veE7Y/zSuS8Mfs4/AL9n7/goV8Px8Dfgz4Z8I/2t8GfG/8Aan/CO6NDafa/K1bwn5fmeWo37fMkxnpvbHU1rQebe1XtlT5evK53%2BV1Y3wzzx1l9YVLk68rqc3y5lbfv0PpqiiivQPUCuA%2BPv7QekfAaz8P23/CA%2BIfF2veLNcOk%2BGPCnhVbT7dqNwtrPdy7Wvbi3t4kjt7aeRnlmRfkCgl3RG7%2BvIf2ovhH8WPGPiX4d/GD4GW3h2%2B8TfDzxLdX0WieK9Xn0%2Bx1S0utNurGaFrqC2uZLd1M8UyuIJAfIMZAEm9ABmuftsfCyw/Z68JftE%2BHPD3iDX7Px1fadp/hXw9plrBDqV5f3j7I7Nlu5oYbeZGEiyCaWNUaJ1LbsA42mft/%2BCfFXhLwxqfw3%2BCnjzxR4l8U3OvQ23gDSYdLj1Wz/sS/OnarJPJdX0NksdveGOAyLdOsjTR%2BSZVYNXB%2BIv2HfjLe/sbeE/2Zr7SvAHiweG/EWn614j0LxLqFxHovjZmnmu9QsbpPsczWlsLycTQ/JdbxbRLKm1nU%2Bd%2BIP%2BCUnxAuPh34KE3w7%2BFfirU/Dmh%2BNdGtfAviPW76Dw94YtNc1SC/sP7MmSxlkc6UlsltADBbko5MTWnlxxgA%2B9bK4e7s4rqS1lgaWJXaCbG%2BMkZ2ttJGR0OCRnua/Pn/AIItaFNc/tXftk%2BO7jLq3x11bSrRj/AIdb1mWRR9WnUmvtrw98J5h8CdJ%2BC/xB8c65rM9r4btNM1fxJZazdabqGoSxQokl0Lm0lSeCSRkLlo5AwLH5q%2BWf8AgiR8NrP4e%2BA/2gTZveyx3P7V/j%2BCzuNS1Ge8uZLa21WS3jMtxcO8075STdLI7O5JZmJJJ8/GU/aYrD/3ZSf3Qkv1Pr%2BHcasFkGcrrVoUqa/7exVKT/Cnr5H2vRRRXoHyAUUUUAFFFFABRRRQAUUUUAFFFFABRRRQAUUUUAFFFFABRRRQAUUUUAFFFFABRRRQAUUUUAFFFFABRRRQAUUUUAFFFFABXjP7L/8AyW/9o7/ss1j/AOoV4Xr2avGf2X/%2BS3/tHf8AZZrH/wBQrwvQB7NRRRQAUUUUAFFFFABRRRQAUUUUAFFFFABRRRQAUUUUAFFFFABRRRQB49/wUHPjkfsOfFg/Df8AtP8Atj/hAtT%2Bz/2Jv%2B3bPs7%2Bb9m8v5/P8rzPL2fPv27fmxXzz8APEvwz0zwh%2B0d4d/4J5a/4Wt/C2p6N/wAWZsfBV1bLpt34lj8P7r3%2BykiPlyBXNg03kgqLgzl8S%2BbX3PRQB8Vf8Euz8BT8WvFP/DHh0s/Dn/hUngv%2B3P7C2/Zv%2BEs8zVvtv2jb/wAxX7N9h%2B2%2BZ%2B/z9m875q9Ov9S%2BK93/AMFNvBdn428F%2BHtP0K3%2BD3jgeGtR0rxPPeXd%2Bh1bwl5jXNtJZQpaEYTASa4DbjkrtG76Hr5w/aP1f416P%2B3h8J5/gd8P/C3iLUm%2BEfjtbu08V%2BMLnRYI4P7U8JEuktvp96zvu2jYY1GCTvyApAPo%2BivGf%2BE4/wCChf8A0a/8Gf8Aw/Grf/MvR/wnH/BQv/o1/wCDP/h%2BNW/%2BZegD2aivGf8AhOP%2BChf/AEa/8Gf/AA/Grf8AzL0f8Jx/wUL/AOjX/gz/AOH41b/5l6APZqK%2BcdJ/aO/bt1j4z6/8Drf9lD4SLqnh3wvpGu3ly/x11TyJINRudSt4UQjwxuLq2lzlgVAAePBYlgvUf8Jx/wAFC/8Ao1/4M/8Ah%2BNW/wDmXoA9morxn/hOP%2BChf/Rr/wAGf/D8at/8y9H/AAnH/BQv/o1/4M/%2BH41b/wCZegD2aivGf%2BE4/wCChf8A0a/8Gf8Aw/Grf/MvXL%2BAf2jv27fiJ4r8b%2BENH/ZQ%2BEkNx4D8URaFqslz8ddUCTzyaVp%2Bph4tvhgkp5OowqSwU70cYwAzAH0dRXjP/Ccf8FC/%2BjX/AIM/%2BH41b/5l6P8AhOP%2BChf/AEa/8Gf/AA/Grf8AzL0AezUV4z/wnH/BQv8A6Nf%2BDP8A4fjVv/mXo/4Tj/goX/0a/wDBn/w/Grf/ADL0AezUV84/CL9o79u34y%2BFLvxf4c/ZQ%2BEltb2fijW9CkjvfjrqiuZ9L1W60ydxt8MMNjTWkjIc5KMpIU5UdR/wnH/BQv8A6Nf%2BDP8A4fjVv/mXoA9morxn/hOP%2BChf/Rr/AMGf/D8at/8AMvR/wnH/AAUL/wCjX/gz/wCH41b/AOZegD2aivGf%2BE4/4KF/9Gv/AAZ/8Pxq3/zL1y/wR/aO/bt%2BPHwY8IfHHwr%2Byh8JLXS/GfhfT9d0221D466os8MF3bR3EaSBPDDKHCyAMFZhkHBI5oA%2BjqK8Z/4Tj/goX/0a/wDBn/w/Grf/ADL0f8Jx/wAFC/8Ao1/4M/8Ah%2BNW/wDmXoA9morxn/hOP%2BChf/Rr/wAGf/D8at/8y9cv8bv2jv27fgP8GPF/xx8VfsofCS60vwZ4X1DXdSttP%2BOuqNPNBaW0lxIkYfwwqlysZChmUZIyQOaAPo6mzQw3EZiniV0PVXXIP4GvG/8AhOP%2BChf/AEa/8Gf/AA/Grf8AzL0f8Jx/wUL/AOjX/gz/AOH41b/5l6ATaZ6Rqnws%2BGOuZ/tr4c6DeZ6/atIhkz/30prntT/ZQ/Za1rP9sfs1%2BALvPX7T4NsZM/8AfURrmP8AhOP%2BChf/AEa/8Gf/AA/Grf8AzL0f8Jx/wUL/AOjX/gz/AOH41b/5l6xlh8PP4oJ%2BqT/NM9Ghm%2Bb4X%2BDiakP8NSpH/wBJqIsaj/wT8/YT1XJvf2NPhcSerR%2BA9PRj%2BKxA1hah/wAEt/8AgnhqeftP7H/gdc/8%2B%2BkLD/6LIrM%2BLv7R37dvwa8KWni/xH%2Byh8JLm3vPFGiaFHHZfHXVGcT6pqtrpkDnd4YUbFmu42c5yEViAxwp6j/hOP8AgoX/ANGv/Bn/AMPxq3/zL1hLLctn8VCD/wC3I/8AyJ61HjbjTD/ws0xMfTEV/wD5czj7/wD4I8f8E09Sz9o/ZO0Jc/8APvfXkX/oE4rHu/8AgiD/AMEvrt/N/wCGYUifs9v4v1iPH/fN4BXpH/Ccf8FC/wDo1/4M/wDh%2BNW/%2BZej/hOP%2BChf/Rr/AMGf/D8at/8AMvWEskyaW%2BGp/wDgEf8AI9Ol4oeJVH%2BHnWLX/czW/wDk2eZf8OSf%2BCe1v/yCPh14k0/0%2Bx%2BP9WXH/fVwaT/hzB%2Bx/D/yC/EHxLsfT7J8SdQGPzc16d/wnH/BQv8A6Nf%2BDP8A4fjVv/mXrl/H37R37dvw78V%2BCPCGsfsofCSa48eeKJdC0qS2%2BOuqFIJ49K1DUy8u7wwCE8nTplBUMd7oMYJZZ/sLJemHh8lb8mjb/iK3iY/izjEP/FUcv/SoyOa/4c7/AABh/wCQb8e/jfZ%2Bn2X4pXQx%2BYNH/Don4eRf8g/9s39o%2B09Ps3xalGPziNem/wDCcf8ABQv/AKNf%2BDP/AIfjVv8A5l6P%2BE4/4KF/9Gv/AAZ/8Pxq3/zL0f2FlH/PlffJflNB/wARU8ROuZTfrGjL/wBKw8jzH/h01Yxf8eP/AAUV/aqtvQQ/GA4/W2NU/gr%2Byrefsyf8FC/Ba3P7THxT%2BIq618GfGWwfEzxUNTOn%2BTq3hXP2ciNPL8zzRv67vKj6befWv%2BE4/wCChf8A0a/8Gf8Aw/Grf/MvVDwP4H/as8Y/tWeHPjd8bvhx8PfDOjeGfh74h0OGHwr8Q77Wrq7utSvtEuEZkuNIsUijRNLlBYO7FpUAXGSNqGVZfhqqqUoWkvOf5ObX4Hn5px9xfneBng8diuenO117PDq9mmvehhqc1qltNdndXT91ooor0D48KKKKACiiigArwf8A4J2%2BF9N8M/BXxbLp%2B8tqnx4%2BJV7dF8cyN4z1hT07AIo/CveK%2BSv2SvFn7Z2n/D3xRZ/DH4B/DDV9CT40/EX%2Bz9R174u6jpt3Mv8AwmesljJbRaBcpEQ24ACZ8gA5BO0JpNp9i41KkYSgnpK1/Ozuvuep9a0V4z/wnH/BQv8A6Nf%2BDP8A4fjVv/mXo/4Tj/goX/0a/wDBn/w/Grf/ADL0yD2aivGf%2BE4/4KF/9Gv/AAZ/8Pxq3/zL0f8ACcf8FC/%2BjX/gz/4fjVv/AJl6APZqK%2Bcfgj%2B0d%2B3b8ePgx4Q%2BOPhX9lD4SWul%2BM/C%2Bn67pttqHx11RZ4YLu2juI0kCeGGUOFkAYKzDIOCRzXUf8Jx/wAFC/8Ao1/4M/8Ah%2BNW/wDmXoA9morxn/hOP%2BChf/Rr/wAGf/D8at/8y9H/AAnH/BQv/o1/4M/%2BH41b/wCZegD2aivnH43ftHft2/Af4MeL/jj4q/ZQ%2BEl1pfgzwvqGu6lbaf8AHXVGnmgtLaS4kSMP4YVS5WMhQzKMkZIHNdR/wnH/AAUL/wCjX/gz/wCH41b/AOZegD2aivGf%2BE4/4KF/9Gv/AAZ/8Pxq3/zL0f8ACcf8FC/%2BjX/gz/4fjVv/AJl6APZqK8Z/4Tj/AIKF/wDRr/wZ/wDD8at/8y9cv8Xf2jv27fg14UtPF/iP9lD4SXNveeKNE0KOOy%2BOuqM4n1TVbXTIHO7wwo2LNdxs5zkIrEBjhSAfR1FeM/8ACcf8FC/%2BjX/gz/4fjVv/AJl6P%2BE4/wCChf8A0a/8Gf8Aw/Grf/MvQB7NRXjP/Ccf8FC/%2BjX/AIM/%2BH41b/5l6P8AhOP%2BChf/AEa/8Gf/AA/Grf8AzL0AezUV84%2BPv2jv27fh34r8EeENY/ZQ%2BEk1x488US6FpUlt8ddUKQTx6VqGpl5d3hgEJ5OnTKCoY73QYwSy9R/wnH/BQv8A6Nf%2BDP8A4fjVv/mXoA9morxn/hOP%2BChf/Rr/AMGf/D8at/8AMvR/wnH/AAUL/wCjX/gz/wCH41b/AOZegD2aivGf%2BE4/4KF/9Gv/AAZ/8Pxq3/zL1y%2BrftHft26P8Z9A%2BB1x%2Byh8JG1TxF4X1fXbO5T466p5EcGnXOm28yOT4Y3B2bVICoCkEJJkqQoYA%2BjqK8Z/4Tj/AIKF/wDRr/wZ/wDD8at/8y9H/Ccf8FC/%2BjX/AIM/%2BH41b/5l6APZqK8Z/wCE4/4KF/8ARr/wZ/8AD8at/wDMvR/wnH/BQv8A6Nf%2BDP8A4fjVv/mXoA9mor5x0n9o79u3WPjPr/wOt/2UPhIuqeHfC%2Bka7eXL/HXVPIkg1G51K3hRCPDG4uraXOWBUAB48FiWC9R/wnH/AAUL/wCjX/gz/wCH41b/AOZegD2aivGf%2BE4/4KF/9Gv/AAZ/8Pxq3/zL0f8ACcf8FC/%2BjX/gz/4fjVv/AJl6APZqK8Z/4Tj/AIKF/wDRr/wZ/wDD8at/8y9cv4B/aO/bt%2BInivxv4Q0f9lD4SQ3HgPxRFoWqyXPx11QJPPJpWn6mHi2%2BGCSnk6jCpLBTvRxjADMAfR1FeM/8Jx/wUL/6Nf8Agz/4fjVv/mXo/wCE4/4KF/8ARr/wZ/8AD8at/wDMvQB7NXjP7L//ACW/9o7/ALLNY/8AqFeF6P8AhOP%2BChf/AEa/8Gf/AA/Grf8AzL1b/ZW%2BHPxp8H6x8UPHfx00DwvpOqePviFFrlnpXhPxLc6tb2trFoOj6YqvcXFlZs0jSadK5URbQsiDcxzgA9booooAKKKKACiiigAooooAKKKKACiiigAooooAKKKKACiiigAooooAKKKKACvlfVv2tPi5D%2B0jNri%2BHfB7fDzSPjBbfC5opNIuDr5uLzT7W4bUI7z7R5SQfbpbe3a0%2BzkskPn%2BeCFhr6orxm8/Yh%2BHF58fm%2BOr%2BOfFS20viuHxVc%2BBUurX%2BxJ9fi05dOj1RlNv9p81bdIx5QuBbmSJJjCZR5lAHs1FFFABRRRQB8x%2BHP2lviZD/wAFAPFHwf8AiNrHh7wn4bXX7TRfBkWo/CLWUuvGMH9gQajiDxG12unNLHd3OoAWgheXy7SYBQWaRfpyvK/Fn7LUHj/4yaR8U/Hvxv8AGur6V4e12PWtA8AXB0yLRrHUI7d4I5w0Nkl7Ls8ySRUmupIxI%2B7Z8iBfVKACiiigDxf/AIKC/F344fs/fsj%2BNPj18Ar3wpHrHgnQrvXLqDxhotzfW13aWttLM9uiW11bMkrsiKJC5VAWJR%2BBXn/jz9rT4ueC/jx4t1Pwp4d8IRfDzwh8Y/CPw%2B8ZWc2kXB1vVdV12DRUj1CG7S4WGOOD%2B3NJjMUlvK8iQz4lj2oK9h/ax/Zxsv2tPgRr37PutfFXxT4R0nxPZS2OuX/hBdO%2B13NlLE8U1tuv7S6jRHV%2BWRFkBUbXXnPFwfsA%2BDp/iLZ/EXxV8cfH2usdZ0nXPE2jahLpUVj4n1zTEjSx1a9jtrCJluIhBaYW2aCBjY2xeJjHkgHvdFFFABXi/wC2T8Xfjh8ErXwD4x%2BFl74U/sbUPiZ4c8PeL7HxBotzc3Vza6rrNjpoNnLDdQpbSRrcyyb5EnUlEXZyTXtFeVftXfstv%2B1V4b0LwvP8ffG/ga30LxJYa6jeC4dHZ7u9sbyC8s2lOpafeDbFcW8bhYwgblZN6naADzj9nn9pX4ma3%2B1X4t%2BCPxQ1fw94T06HxTrdv4J8JSfCLWdMudetoXSU39vrdxd/YNQdjJLLLFbQFxkuxXDE/TleS6T%2ByiH%2BMmi/GX4j/tAeO/Gs3he7vLvwnoXiEaTDYaPdXNvJayXES2Gn20sr/Z5p4V8%2BSVUWd9oBII9aoAKKKKAPB/2tfjN%2B0F8BvEnhfxd4M8QeCL3w9rXi7QvDtt4FvvDl5JrmuXN7fLDctaXsd6sUJgtWkutjWkw8u0mZ3jQF4%2BP/AGJf2tPi58VNe%2BHGmeP/AA74QsvC/wAX/g5cfEH4Zaf4W0i4tJtA0q2n0tBp960lxLHcyfZ9a05hLDHborRzp5RAVq9C%2BJP7HK/ET9p3RP2prf8AaO%2BIGhar4f0MaVpmgaZDolxpcEDzebctGl9plxNDLcgRxzSxSo7RwxorIByfs8/sQ/Dj9nHxdF4q8N%2BOPFWtR6T4el8PeCtI8QXVq9r4S0WS4S4fTrAQW8Unkl4bYZuHnlCWkCCQKgFAHs1FFFABXy/%2B1z8eP2l/gt8RNP8ACmlQ%2BAPGuj%2BOYdattF%2BHMXg%2B%2Bk1hLW00O6u5L%2B4nF68V1bC6it7aSEWsQP2%2BFBMZGRJPqCvDpv2JriP9o/xX%2B01on7VfxL07V/Fumw6dc6XDB4fntNPs4YGjhtrNrnSZbm3iWV3utizbXncu4cHbQAz9hD9oTxv8fPh5eXXxX8faNfeLtOFm2v8Ahuy%2BF2r%2BEbzQHntllEFzY6vdT3Dgtv8ALuAI45FQ7Q20mvdK83%2BB37N2nfBnxP4k%2BIesfFLxT448VeK4rG31jxP4uawW5e0sxN9ltUi0%2B1tbaOKNrm5cbYQzNcSFmbIx6RQAUUUUAfFH7TH7cPx%2B%2BB3x9v8A4D6jpvhDxaNYeyTwl/aPwz1fRbbR9RvfEOh6ZpDPeXd5Lb%2BIEjl1iGW4bTxE1u1p8/ktKir7/wDsq/F/4kfEYeP/AIffGI6JP4q%2BGnjxvDWs6r4a06azsNT8zS9O1a3uIbeaeeS3za6pbo8bTS4kjkwxBGOW%2BJf/AATz8G/G3XrjxB8bfj58RfFT20dx/wAIdDf3OlWyeEbiS6t7qO7sDZ2ELPcQy2lsYpLtrkp5Xfe%2B/wBH%2BAfwF0P4B%2BHtW02y8X654k1bxFr02teJ/FHiV7Y3%2Br30kcUPnTC1gggXZBBbwIkUUaLHBGoXgkgHdUUUUAFfE37UX7Y/7WHwd%2BM3ij4V%2BD/DXhzxvqul%2BGL/AMQ%2BEo0%2BCevwyaQ6Xen28Kwub118TSfZNTnWYaX5TwtEVkEfnCMfbNeI61%2BxfqPiLx%2B3xP1z9rT4oXOt2Fvew%2BDbt00EL4VW7mhec2kY0oJOzRwpAGvRdFYi4BDOzkA6X9lT4tzfGX4UjxNqPxO0bxTqNrqtzY6tdaP4Iv8Aw2bO4ib5rWfTNRuJ7q0nRSu5JmDEMrbVVhXpNcJ8A/gHoHwB0LWbHT/FuueI9V8TeIJdc8T%2BJvEktu17qt/JDDB5sgtoYYIwsFvbwqkUUaKkKALnJPd0AFFFFABRRRQAUUUUAFFFFAFHxR4hsPCXhrUfFeqhza6ZYzXdyIly3lxoXbA7nCmvnP8AYm/aT%2BNfj/xTo/gz42eHvBlmPHXwtsviN4Zh8GaVcWg0yO8uCbvT7szXEou5o3ubZ/tiCATtLMTBHtBf6Wu7S1v7WWxvbdJoZo2jmilUMrqRgqQeCCOMV5D%2BzN%2BxX4C/Zg1V9X0D4g%2BLfEstt4YsfDPh0eLL21mGgaFZvI9vptqbe3hLRqZPmlnM1xII4vMmfy1wAexUUUUAFcL%2B1B48%2BIvws/Zo%2BInxO%2BD/AIUXXvFvhzwLq%2BqeFtDaxmuhqOo29nLLbWxhgZZZhJKiJ5cbB23YUgkGu6rO8W6Jf%2BJfDGoeH9L8V6joVze2kkNvrWkLA11YuykCaIXEUsRdTyBJG6ZHzKwyCAeXfsU/Fqf4o/DO%2BstW%2BIWgazqfh3VF0680zRPhhqng59DQW0EkVncaVqlzPcwuEcSK7eWjxSxbEwN7%2BxV558B/2dtJ%2BB154l8R3PxE8SeMfEni/UYbzxF4p8VvZi7ujDbpbwRCOxtra2iijjQBVjhTJZ2YszMx9DoAKKKKAPlz9qj9rH4ofs4fF7xxZfErRvCXiL4X2H7O/i/x7baFb6JcJqrtog0tZ7a4uZLl7eaKdb6cBBbIVCJl3ywrt/2Z/i/8fNU%2BLnjL9nX9pZ/CV54o8MeGPD3iWPVfBWk3NjZSWWrPqVutsYbm5uXMsNxpF2DKJAsiPE3lxnctQfGP9hXw78dPjq3xl8efHbxzLps3grU/CN98PYYNF/sS70bUltvt9pIX01r0idrSB2cXQdShCMiMyHpP2d/2XdD/AGfb7WvEc/xQ8W%2BN/EOv2thZX/ifxtc2kl6bCxSRbOzH2S2t4/KiM9w4JQyO9zK7u7NmgD0%2BiiigAr5E%2BNf7S/7W3gvXP2gPAtv4V8GeLL3wF4f8KeJPhtY6T8P9Tv51j1HVdShCXdrFePLqM8C6bHOpthbkuSFX5VavruvC5f2KPEMXx08bfH/Qv20PitpWreN9IsdMubGys/DDWmm21lcXM9mlsJdFeT90by6UGZ5S6zkSeYVQqAdX%2Byp8W5vjL8KR4m1H4naN4p1G11W5sdWutH8EX/hs2dxE3zWs%2BmajcT3VpOildyTMGIZW2qrCvSa4T4B/APQPgDoWs2On%2BLdc8R6r4m8QS654n8TeJJbdr3Vb%2BSGGDzZBbQwwRhYLe3hVIoo0VIUAXOSe7oAKKKKAPjb9pb9rv9pb9nj4zQfDbWU%2BGfjW%2B1uCCbwjDp3ha9tJfBd5qXiHTPD2kTanK99MLqKdtXnBaJbORxY3Sxhl8wxe4/sq/F/4kfEYeP8A4ffGI6JP4q%2BGnjxvDWs6r4a06azsNT8zS9O1a3uIbeaeeS3za6pbo8bTS4kjkwxBGOFtv%2BCavhJrr4hv4h/aX%2BJ2s2/xJ1465rFvqR0LzLPUoriGfT7m2uotLS6U2D29uLSN5pIolhQMj859Y%2BAfwF0P4B%2BHtW02y8X654k1bxFr02teJ/FHiV7Y3%2Br30kcUPnTC1gggXZBBbwIkUUaLHBGoXgkgHdUUUUAMuftP2aT7Hs87YfK83O3djjOOcZr4g%2BK37XP7afw0%2BImufDa3tvAfjPXvDF74at9W8deCPgrr%2BrR%2BHLfVmvHvbCXSrPUp7u5mjhsrG6JinT93dQtLAgMTSfb13DJcWstvDdSQPJGyrPEFLxkjAZdwK5HUZBHqDXz38GP2AvEHwE%2BG1x8NPh3%2B3V8Yoo7rVn1ObWbyy8Jz6hLdyvLJczzTPoR%2B0yTvLukknEj5jTYUAwQD1n4CfEOy%2BK3wd8P/ABCsPiBo3ipNT08SPr/h/SZrC0u5ASshS1nmmltirqyNDJI7xsrKx3KQOvrkvgX8F/CX7Pvwv074U%2BCrm/uLKwluria%2B1W5E11fXd1cy3V1dTOFUNLNcTzSvtVV3SHaqrhR1tABVHxPD4kufDeoW/g3U7Gy1eSylXS7zU7B7q2guChEcksMcsTTRq2CyLJGWAIDqTuF6s3xjoN/4o8LX/h3S/FupaDc3lq8UGtaOIDdWLkcTRC4iliLqeQJI3Q4%2BZWGRQB8TfCn9uD9rL43fFy/%2BAHwrsfh/D45R9bnHjbxX8Lda0SPUNJ0i00WT7NNoV3fpqNjK154jijjknmKGFZbiOJ1lUH62/Zs%2BM2n/ALR37OngH9obStIk0%2B18eeCtK8RW1hNJue2jvbOK5WJmwMlRKFJwM4ryLUP%2BCang7UdbuviQ/wC0t8UofiJqE9yupfE%2B1vNIi1i6sZ7SC1l07y100WUVsY7W2YCK2jkWWFZRIJMufe/h94D8J/CzwFonwx8B6PHp2h%2BHNIttL0XT4iSltaW8SxQxLnJwqIqjPpQBr0UUUAcv8adR8caN8Lda1v4c%2BIbHS9WsLM3UN9qHg%2B98QIkcZDygadYzwXN5I0SuqRQyBy7LhXPyN8W/DX/goj8ftc8Q%2BHtd8YXHhHwJ4N1OXUf%2BEo8eXvwM8RXFrqN7a67JpMX2pkvo18Myy2ttETFqjPJbsRG/3NlfbfxM8Ga7498JTeHPDfxS1/wbeSSxvFr/AIZisXu4NrAlVW/trmBgwBUh4m4Jxg4I8V1D/gnN4U1fwDe/CjVP2kPibceF/Edzd3PxC0N7jR9njKe7uXnu5L6UaaJ4fODiFo7KS1jEKKiooBJAPomiiigAooooAKKKKACiiigAooooAKKKKACiiigAooooAKKKKACiiigAooooAKKKKACiiigAooooAKKKKACiiigAooooAKKKKACiiigAooooAKKKKACiiigAooooAKKKKACiiigAooooAKKKKACiiigAooooAKKKKACiiigAooooAKKKKACiiigAooooAKKKKACiiigAooooAKKKKACiiigAooooAKKKKACiiigAooooAKKKKACiiigAooooAKKKKACiiigAooooAKKKKACiiigAooooAKKKKACiiigAooooAKKKKACiiigAooooAKKKKACiiigD/9k%3D\">"
      ]
     },
     "metadata": {},
     "output_type": "display_data"
    }
   ],
   "source": [
    "s.run(tf.global_variables_initializer())\n",
    "\n",
    "BATCH_SIZE = 512\n",
    "EPOCHS = 40\n",
    "\n",
    "# for logging the progress right here in Jupyter (for those who don't have TensorBoard)\n",
    "simpleTrainingCurves = matplotlib_utils.SimpleTrainingCurves(\"cross-entropy\", \"accuracy\")\n",
    "\n",
    "for epoch in range(EPOCHS):  # we finish an epoch when we've looked at all training samples\n",
    "    \n",
    "    batch_losses = []\n",
    "    for batch_start in range(0, X_train_flat.shape[0], BATCH_SIZE):  # data is already shuffled\n",
    "        _, batch_loss = s.run([step, loss], {input_X: X_train_flat[batch_start:batch_start+BATCH_SIZE], \n",
    "                                             input_y: y_train_oh[batch_start:batch_start+BATCH_SIZE]})\n",
    "        # collect batch losses, this is almost free as we need a forward pass for backprop anyway\n",
    "        batch_losses.append(batch_loss)\n",
    "\n",
    "    train_loss = np.mean(batch_losses)\n",
    "    val_loss = s.run(loss, {input_X: X_val_flat, input_y: y_val_oh})  # this part is usually small\n",
    "    train_accuracy = accuracy_score(y_train, s.run(classes, {input_X: X_train_flat}))  # this is slow and usually skipped\n",
    "    valid_accuracy = accuracy_score(y_val, s.run(classes, {input_X: X_val_flat}))  \n",
    "    simpleTrainingCurves.add(train_loss, val_loss, train_accuracy, valid_accuracy)"
   ]
  },
  {
   "cell_type": "markdown",
   "metadata": {},
   "source": [
    "# Submit a linear model"
   ]
  },
  {
   "cell_type": "code",
   "execution_count": 38,
   "metadata": {
    "collapsed": true
   },
   "outputs": [],
   "source": [
    "## GRADED PART, DO NOT CHANGE!\n",
    "# Testing shapes \n",
    "grader.set_answer(\"9XaAS\", grading_utils.get_tensors_shapes_string([W, b, input_X, input_y, logits, probas, classes]))\n",
    "# Validation loss\n",
    "grader.set_answer(\"vmogZ\", s.run(loss, {input_X: X_val_flat, input_y: y_val_oh}))\n",
    "# Validation accuracy\n",
    "grader.set_answer(\"RMv95\", accuracy_score(y_val, s.run(classes, {input_X: X_val_flat})))"
   ]
  },
  {
   "cell_type": "code",
   "execution_count": 39,
   "metadata": {},
   "outputs": [
    {
     "name": "stdout",
     "output_type": "stream",
     "text": [
      "Submitted to Coursera platform. See results on assignment page!\n"
     ]
    }
   ],
   "source": [
    "# you can make submission with answers so far to check yourself at this stage\n",
    "grader.submit(COURSERA_EMAIL, COURSERA_TOKEN)"
   ]
  },
  {
   "cell_type": "markdown",
   "metadata": {},
   "source": [
    "# MLP with hidden layers"
   ]
  },
  {
   "cell_type": "markdown",
   "metadata": {},
   "source": [
    "Previously we've coded a dense layer with matrix multiplication by hand. \n",
    "But this is not convenient, you have to create a lot of variables and your code becomes a mess. \n",
    "In TensorFlow there's an easier way to make a dense layer:\n",
    "```python\n",
    "hidden1 = tf.layers.dense(inputs, 256, activation=tf.nn.sigmoid)\n",
    "```\n",
    "\n",
    "That will create all the necessary variables automatically.\n",
    "Here you can also choose an activation function (remember that we need it for a hidden layer!).\n",
    "\n",
    "Now define the MLP with 2 hidden layers and restart training with the cell above.\n",
    "\n",
    "You're aiming for ~0.97 validation accuracy here."
   ]
  },
  {
   "cell_type": "code",
   "execution_count": 43,
   "metadata": {},
   "outputs": [],
   "source": [
    "# write the code here to get a new `step` operation and then run the cell with training loop above.\n",
    "# name your variables in the same way (e.g. logits, probas, classes, etc) for safety.\n",
    "s = reset_tf_session()\n",
    "\n",
    "input_X = tf.placeholder(tf.float32, shape=(None, 784))\n",
    "input_y = tf.placeholder(tf.float32, shape=(None, 10))\n",
    "W = tf.get_variable(\"w1\", shape=(256, 10))\n",
    "b = tf.get_variable(\"b1\", shape=(1, 10))\n",
    "\n",
    "hidden1 = tf.layers.dense(input_X, 256, activation=tf.nn.sigmoid)\n",
    "hidden2 = tf.layers.dense(hidden1, 256, activation=tf.nn.sigmoid)\n",
    "logits = hidden2 @ W + b\n",
    "probas = tf.nn.softmax(logits)\n",
    "classes = tf.argmax(probas, axis=1)\n",
    "\n",
    "loss = tf.reduce_mean(tf.nn.softmax_cross_entropy_with_logits(labels=input_y, logits=logits))\n",
    "\n",
    "step = tf.train.AdamOptimizer().minimize(loss)"
   ]
  },
  {
   "cell_type": "markdown",
   "metadata": {},
   "source": [
    "# Submit the MLP with 2 hidden layers\n",
    "Run these cells after training the MLP with 2 hidden layers"
   ]
  },
  {
   "cell_type": "code",
   "execution_count": 46,
   "metadata": {
    "collapsed": true
   },
   "outputs": [],
   "source": [
    "## GRADED PART, DO NOT CHANGE!\n",
    "# Validation loss for MLP\n",
    "grader.set_answer(\"i8bgs\", s.run(loss, {input_X: X_val_flat, input_y: y_val_oh}))\n",
    "# Validation accuracy for MLP\n",
    "grader.set_answer(\"rE763\", accuracy_score(y_val, s.run(classes, {input_X: X_val_flat})))"
   ]
  },
  {
   "cell_type": "code",
   "execution_count": 47,
   "metadata": {},
   "outputs": [
    {
     "name": "stdout",
     "output_type": "stream",
     "text": [
      "Submitted to Coursera platform. See results on assignment page!\n"
     ]
    }
   ],
   "source": [
    "# you can make submission with answers so far to check yourself at this stage\n",
    "grader.submit(COURSERA_EMAIL, COURSERA_TOKEN)"
   ]
  },
  {
   "cell_type": "code",
   "execution_count": null,
   "metadata": {
    "collapsed": true
   },
   "outputs": [],
   "source": []
  }
 ],
 "metadata": {
  "kernelspec": {
   "display_name": "Python 3",
   "language": "python",
   "name": "python3"
  },
  "language_info": {
   "codemirror_mode": {
    "name": "ipython",
    "version": 3
   },
   "file_extension": ".py",
   "mimetype": "text/x-python",
   "name": "python",
   "nbconvert_exporter": "python",
   "pygments_lexer": "ipython3",
   "version": "3.6.0"
  }
 },
 "nbformat": 4,
 "nbformat_minor": 1
}
